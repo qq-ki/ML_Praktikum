{
 "cells": [
  {
   "attachments": {},
   "cell_type": "markdown",
   "metadata": {},
   "source": [
    "---"
   ]
  },
  {
   "attachments": {},
   "cell_type": "markdown",
   "metadata": {},
   "source": [
    "[//]: # \"Header\"\n",
    "\n",
    "<p style=\"text-align: left;  font-size:18pt; LINE-HEIGHT:30px;\">\n",
    "    <span style=\"float: left\">\n",
    "     Technische Hochschule Ingolstadt<br>\n",
    "     Prof. Dr. Sören Gröttrup & Laura Dietl\n",
    "    </span>\n",
    "    <span style=\"float: right;\">\n",
    "       Machine Learning 2<br>\n",
    "        <span style=\"float: right;\">SS 2025</span>\n",
    "    </span>\n",
    "</p>"
   ]
  },
  {
   "attachments": {},
   "cell_type": "markdown",
   "metadata": {},
   "source": [
    "[//]: # \"Header Aufgabenblatt\"\n",
    "<br>\n",
    "<p style=\"text-align: center;  font-size:18pt; LINE-HEIGHT:30px;\">\n",
    "     <span style=\"font-weight: bold;\">Aufgabenblatt 5</span><br>\n",
    "     Themen: Dimensionsreduktionsverfahren, k-Means Clustering<br>\n",
    "     Abgabetermin: 12.06.2024, 23:59 Uhr<br>\n",
    "     Punkte: 30\n",
    "</p>\n"
   ]
  },
  {
   "attachments": {},
   "cell_type": "markdown",
   "metadata": {},
   "source": [
    "---"
   ]
  },
  {
   "attachments": {},
   "cell_type": "markdown",
   "metadata": {},
   "source": [
    "**Namen:** Emelie Hauck, Conrad Christoph"
   ]
  },
  {
   "attachments": {},
   "cell_type": "markdown",
   "metadata": {},
   "source": [
    "---"
   ]
  },
  {
   "attachments": {},
   "cell_type": "markdown",
   "metadata": {},
   "source": [
    "## Aufgabe 1 [16 Punkte]"
   ]
  },
  {
   "attachments": {
    "74164b53-b137-40fa-9ac4-9ff8ebf5f467.png": {
     "image/png": "[encoded data removed]"
    }
   },
   "cell_type": "markdown",
   "metadata": {},
   "source": [
    "### Daten\n",
    "\n",
    "Der Datensatz `fashion-mnist` ist ein von Zalando bereitgestellter Datensatz und enthält Bilder von Kleidungsstücken aus 10 verschiedenen Kategorien (https://github.com/zalandoresearch/fashion-mnist).\n",
    "\n",
    "![grafik.png](attachment:74164b53-b137-40fa-9ac4-9ff8ebf5f467.png)\n",
    "\n",
    "\n",
    "Der Datensatz besteht aus einem Trainigsdatensatz mit 60.000 Bildern und einem Testdatensatz mit 10.000 Bildern. Jedes Bild ist ein grauskaliertes 28x28 Bild und die 10 Klassen sind mit 0 bis 9 codiert. \n",
    "Die Codierung ist in der nachfolgenden Tabelle angegeben:\n",
    "\n",
    "|Label| Description|\n",
    "| --- | --- |\n",
    "|0| T-shirt/top|\n",
    "|1| Trouser|\n",
    "|2| Pullover|\n",
    "|3| Dress|\n",
    "|4| Coat|\n",
    "|5| Sandal|\n",
    "|6| Shirt|\n",
    "|7| Sneaker|\n",
    "|8| Bag|\n",
    "|9| Ankle boot|\n",
    "\n",
    "Der _fashion-minst_ Datensatz ist enthalten in der Biliothek `torchvision` und kann mittels `torchvision.datasets.FashionMNIST` aufgerufen werden."
   ]
  },
  {
   "attachments": {},
   "cell_type": "markdown",
   "metadata": {},
   "source": [
    "### Methode: Hauptkomponentenanalyse\n",
    "In dieser Aufgaben sollen Sie eine Hauptkomponentenanalyse (PCA) auf den obigen Datensatz anwenden. Bei der Hauptkomponentenanalyse werden die Input-Feature in neue Feature, die Hauptkomponenten, linear transformiert. Die Hauptkomponenten sind dabei so gewählt, dass diese alle senkrecht aufeinander stehen, sie sind also unkorreliert zueinander. Die Informationen, welche die Hauptkomponenten tragen, sind also anschaulich nicht voneinander abhängig. Desweiteren werden die Hauptkomponenten so konstruiert, dass die erste Hauptkomponente die größte Variation der Daten wiederspiegelt (sie enthält also die meiste Information), die zweite Hauptkomponente die zweitgrößte Variation (zweit meisten Informationen) usw.. Durch diese Eigenschaft wird die Hauptkomponentenanalyse auch für die Dimensionsreduktion der Input-Feature verwendet. Anstatt alle Input-Feature zu nehmen, kann man auch nur die ersten $n$ Hauptkomponenten als Inputs wählen, da diese den Großteil der Informationen der Daten enthalten.\n",
    "\n",
    "\n",
    "\n",
    "### Aufgabe\n",
    "Laden Sie dazu jeweils den Trainingsdatensatz  und den Testdatensatz in die Variablen `train_data` und `test_data`. Benutzen Sie dabei auch den folgenden angegebenen Transformer. Achtung: Sie müssen noch den Pfad \"download_data_to_folder\" angeben, in welchen die Daten geladen werden sollen:<br><br>\n",
    "```python\n",
    "#### Load data ####\n",
    "download_data_to_folder = ....\n",
    "\n",
    "transformer = torchvision.transforms.Compose([\n",
    "                               torchvision.transforms.ToTensor(),\n",
    "                               torchvision.transforms.Normalize(0.5, 0.5)\n",
    "])\n",
    "\n",
    "train_data = torchvision.datasets.FashionMNIST(download_data_to_folder, train=True, download=True, transform=transformer)\n",
    "test_data = torchvision.datasets.FashionMNIST(download_data_to_folder, train=False, download=True, transform=transformer)\n",
    "```\n",
    "<br>\n",
    "\n",
    "1. In PyTorch können Sie mittels der Funktion `torch.pca_lowrank` eine Hauptkomponentenanalyse durchführen. Dabei werden die Matrizen, welche für die lineare Transformation benötigt werden berechnet und ausgegeben. Informieren Sie sich genauer über die Funktionsweise dieser Funktion und führen dann eine Hauptkomponentenanalyse auf den Trainingsdaten durch. Visualisieren Sie die Daten in einem 2D-Scatterplot der ersten beiden Hauptkomponenten. Erkennen Sie irgendwelche Muster?\n",
    "\n",
    "1. Visualisieren Sie den Anteil der erklärten Varianz in Bezug auf die verwendete Anzahl an Hauptkomponenten. Wieviele Hauptkomponenten brauchen Sie um 90% der Varianz zu behalten (zu erklären)?\n",
    "\n",
    "1. Trainieren Sie das unten definierte Neuronale Netz einmal für die reduzierten Daten (Input sind die in 2. ermittelten Hauptkomponenten, welche 90% der Varianz beschreiben) und die original Daten unter Berücksichtigung der vordefinierten Parameter und Funktionen sowie des Optimizers SGD. Messen Sie jeweils die Dauer des Trainings über 20 Epochen. Was sind Loss und Accuracy auf dem Testdatensatz? _Hinweis_: Um die vordfinierten Funktionen `train()` und `test()` anwenden zu können, müssen Sie die Daten (insb. den Output der PCA) in einen DataLoader transformieren. Sie können dafür die Funktion `toDataLoader()` nutzen.\n",
    "\n",
    "\n",
    "1. Sie können die Matrizen aus der Funktion `torch.pca_lowrank` auch verwenden, um aus den Hauptkomponenten wieder auf das Originalbild zu schließen. So rekonstruieren Sie das Bild aus weniger Informationen. Rekonstruieren Sie die Bilder für die in der Teilaufgabe 2) ermittele Anzahl an ersten Hauptkomponenten für 90% der Varianz. Visualisieren Sie einige der rekonstruierten Bilder. Sind die Kleidungsstücke zu erkennen?"
   ]
  },
  {
   "attachments": {},
   "cell_type": "markdown",
   "metadata": {},
   "source": [
    "#### Load packages and set parameter"
   ]
  },
  {
   "cell_type": "code",
   "execution_count": 1,
   "metadata": {},
   "outputs": [],
   "source": [
    "# Packages\n",
    "import numpy as np\n",
    "import matplotlib.pyplot as plt\n",
    "import torch\n",
    "import torch.nn as nn\n",
    "import torch.nn.functional as F\n",
    "import torch.optim as optim\n",
    "import torchvision\n",
    "\n",
    "import time\n",
    "\n",
    "plt.style.use('ggplot')"
   ]
  },
  {
   "cell_type": "code",
   "execution_count": 2,
   "metadata": {},
   "outputs": [
    {
     "data": {
      "text/plain": [
       "<torch._C.Generator at 0x1b4b1d3f390>"
      ]
     },
     "execution_count": 2,
     "metadata": {},
     "output_type": "execute_result"
    }
   ],
   "source": [
    "# Define Parameters\n",
    "n_epochs = 20\n",
    "batch_size_train = 64\n",
    "batch_size_test = 1000\n",
    "\n",
    "learning_rate = 0.01\n",
    "log_interval = 100\n",
    "\n",
    "random_seed = 1\n",
    "torch.manual_seed(random_seed)"
   ]
  },
  {
   "attachments": {},
   "cell_type": "markdown",
   "metadata": {},
   "source": [
    "#### Predifined Functions"
   ]
  },
  {
   "cell_type": "code",
   "execution_count": 3,
   "metadata": {},
   "outputs": [],
   "source": [
    "# components and targets to data loader\n",
    "def toDataLoader(components, targets, test_ind=False):\n",
    "    batch_size = batch_size_train\n",
    "    if (test_ind):\n",
    "        batch_size = batch_size_test\n",
    "        \n",
    "    feature_target = torch.utils.data.TensorDataset(components, targets)\n",
    "    new_loader = torch.utils.data.DataLoader(\n",
    "      feature_target,\n",
    "      batch_size=batch_size, shuffle=True)\n",
    "    \n",
    "    return new_loader"
   ]
  },
  {
   "cell_type": "code",
   "execution_count": null,
   "metadata": {},
   "outputs": [],
   "source": [
    "# Plot images\n",
    "# data: Bilddaten in folgendem Format [Anzahl Bilder, Pixel, Pixel]\n",
    "# n_img: Anzahl an Bildern, die geplottet werden sollen\n",
    "def plot_images(data, n_img):\n",
    "  n = n_img # number of images\n",
    "  start_pos = 0\n",
    "  plt.figure(figsize=(20,20))\n",
    "  for i in range(n):\n",
    "    plt.subplot(1, n, i+1)\n",
    "    plt.tight_layout()\n",
    "    plt.imshow(data[i+start_pos], cmap='gray', interpolation='none')\n",
    "    plt.xticks([])\n",
    "    plt.yticks([])\n",
    "  plt.show()"
   ]
  },
  {
   "cell_type": "code",
   "execution_count": 4,
   "metadata": {},
   "outputs": [],
   "source": [
    "# Definition of the net structure\n",
    "class Net(nn.Module):\n",
    "    def __init__(self, input_vars):\n",
    "        super(Net, self).__init__()\n",
    "        self.input_vars = input_vars\n",
    "        self.fc1 = nn.Linear(self.input_vars, 128)\n",
    "        self.fc2 = nn.Linear(128, 64)\n",
    "        self.fc3 = nn.Linear(64, 10)\n",
    "\n",
    "    def forward(self, x):\n",
    "        x = x.view(-1, self.input_vars)\n",
    "        x = F.relu(self.fc1(x))\n",
    "        x = F.relu(self.fc2(x))\n",
    "        x = self.fc3(x)\n",
    "        return F.log_softmax(x, dim = 1)"
   ]
  },
  {
   "cell_type": "code",
   "execution_count": 5,
   "metadata": {},
   "outputs": [],
   "source": [
    "# Training function for each epoch\n",
    "\n",
    "def train(epoch, network, train_loader):\n",
    "  network.train()\n",
    "  \n",
    "  # Loop over the batches\n",
    "  for batch_idx, (data, target) in enumerate(train_loader):\n",
    "    \n",
    "    # --- Steps of the training of the net ---\n",
    "    optimizer.zero_grad()\n",
    "    output = network(data)\n",
    "    loss = F.nll_loss(output, target)\n",
    "    loss.backward()\n",
    "    optimizer.step()\n",
    "    \n",
    "    # --- Output & Evaluation metrics ---\n",
    "    if batch_idx % log_interval == 0:\n",
    "      print('Train Epoch: {} [{}/{} ({:.0f}%)]\\tLoss: {:.6f}'.format(\n",
    "        epoch, batch_idx * len(data), len(train_loader.dataset),\n",
    "        100. * batch_idx / len(train_loader), loss.item()))"
   ]
  },
  {
   "cell_type": "code",
   "execution_count": 6,
   "metadata": {},
   "outputs": [],
   "source": [
    "# Test function that applies the test set to the trained net\n",
    "\n",
    "def test(network, test_loader):\n",
    "  network.eval()\n",
    "  test_loss = 0\n",
    "  correct = 0\n",
    "  \n",
    "  # Gradient calculation is disabled (as not needed)\n",
    "  with torch.no_grad():\n",
    "    \n",
    "    # Loop over the batches\n",
    "    for data, target in test_loader:\n",
    "        \n",
    "      # --- Prediction and calculation of evaluation metrics ---\n",
    "      output = network(data)\n",
    "      test_loss += F.nll_loss(output, target, reduction='sum').item()\n",
    "      pred = output.data.max(1, keepdim=True)[1]\n",
    "      correct += pred.eq(target.data.view_as(pred)).sum()\n",
    "   \n",
    "  # --- Output ---\n",
    "  test_loss /= len(test_loader.dataset)\n",
    "  print('\\nTest set: Avg. loss: {:.4f}, Accuracy: {}/{} ({:.0f}%)\\n'.format(\n",
    "    test_loss, correct, len(test_loader.dataset),\n",
    "    100. * correct / len(test_loader.dataset)))"
   ]
  },
  {
   "attachments": {},
   "cell_type": "markdown",
   "metadata": {},
   "source": [
    "---"
   ]
  },
  {
   "attachments": {},
   "cell_type": "markdown",
   "metadata": {},
   "source": [
    "#### Lösung ab hier"
   ]
  },
  {
   "attachments": {},
   "cell_type": "markdown",
   "metadata": {},
   "source": [
    "#### Load Data"
   ]
  },
  {
   "cell_type": "code",
   "execution_count": null,
   "metadata": {},
   "outputs": [],
   "source": []
  },
  {
   "cell_type": "markdown",
   "metadata": {},
   "source": [
    "---"
   ]
  },
  {
   "cell_type": "markdown",
   "metadata": {},
   "source": [
    "## k-Means Clustering\n",
    "\n",
    "**k-Means Clustering** ist eines der bekanntesten Clusterverfehren. Für eine gegebene natürliche Zahl $k$ findet der Algorithmus $k$ Cluster indem er die $k$ Clustermittelpunkte, die so genannten **Zentroide (centrooids)** mittels eines iterativen Verfahrens identifiziert. Die Zentroide definieren die Cluster, indem ein Datenpunkt demjenigen Cluster zugeordent wird, zu dessen Zentroid er den geringsten Abstand hat.\n",
    "\n",
    "Detailliertere Informationen zum k-Means Clustering in der Vorlesung.\n",
    "\n",
    "#### PyTorch\n",
    "\n",
    "In PyTorch ist k-Means im dem Paket `kmeans_pytorch` implementiert. https://github.com/subhadarship/kmeans_pytorch/\n",
    "\n",
    "_Installation_: `$ pip install kmeans-pytorch`\n",
    "\n",
    "Die Funktion `kmeans_pytorch.kmeans(X=, num_clusters=, distance='euclidean')` führt für eine angegebene Anzahl an Clustern $num\\_clusters$ auf der flachen Tabelle $X$ ein k-means Clustering durch. Dabei sind die Zeilen die Samples und die Spalten die unterschiedlichen Variablen. Über die Option `distance=` können unterschiedliche Metriken angegeben werden. Der Default ist die euklidische Metrik.\n",
    "\n",
    "_Output_: Als Output gibt die Funktion einen Tensor der Clusterzugehörigkeit für jeden Datenpunkt zurück, sowie die Koordinaten der Zentroide."
   ]
  },
  {
   "cell_type": "markdown",
   "metadata": {},
   "source": [
    "## Aufgabe 2 [14 Punkte]\n",
    "\n",
    "\n",
    "1. Führen Sie ein k-means Clustering für `num_clusters=10` auf den Originaldaten (Trainingsdaten) des FashionMNIST Datensatzes durch. Wie groß sind die einzelnen Cluster (wie viele Sample sind in den einzelnen Clustern)?\n",
    "\n",
    "1. Die Zentroide sind die Repräsentanten der Cluster. Plotten Sie die Bilder der Zentroide. Transformieren Sie dazu zuerst die Zentroide zurück in 28x28 Format. D.h. in einen 3-dimensionalen Tensor der Größe `torch.Size([10, 28, 28])`. Wenden Sie dann die Funktion `plot_images` darauf an. Welche unterschiedlichen Objekte hat der Algorithmus gefunden?\n",
    "\n",
    "1. Führen Sie nun nochmal ein k-means Clustering für `num_clusters=4` bzw. `num_clusters=12` durch. Wie sehen die gefundenen Objekte nun aus?\n",
    "\n",
    "1. Führen Sie ein k-means Clustering für `num_clusters=10` auf den in Aufgabe 1 durch PCA reduzierte Daten durch (auf den gefundenen Hauptkomponenten, dei 90% der Varianz beschreiben) des FashionMNIST Datensatzes durch. Vergleichen Sie das Clustering mit dem in 1. mittels des Silhoutte-Scores."
   ]
  },
  {
   "cell_type": "markdown",
   "metadata": {},
   "source": [
    "#### Lösung ab hier"
   ]
  },
  {
   "cell_type": "code",
   "execution_count": null,
   "metadata": {},
   "outputs": [],
   "source": []
  }
 ],
 "metadata": {
  "kernelspec": {
   "display_name": "Python 3",
   "language": "python",
   "name": "python3"
  },
  "language_info": {
   "codemirror_mode": {
    "name": "ipython",
    "version": 3
   },
   "file_extension": ".py",
   "mimetype": "text/x-python",
   "name": "python",
   "nbconvert_exporter": "python",
   "pygments_lexer": "ipython3",
   "version": "3.11.2"
  }
 },
 "nbformat": 4,
 "nbformat_minor": 4
}
