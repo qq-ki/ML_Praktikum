{
 "cells": [
  {
   "cell_type": "markdown",
   "metadata": {},
   "source": [
    "---"
   ]
  },
  {
   "attachments": {},
   "cell_type": "markdown",
   "metadata": {},
   "source": [
    "[//]: # \"Header\"\n",
    "\n",
    "<p style=\"text-align: left;  font-size:18pt; LINE-HEIGHT:30px;\">\n",
    "    <span style=\"float: left\">\n",
    "     Technische Hochschule Ingolstadt<br>\n",
    "     Prof. Dr. Sören Gröttrup\n",
    "    </span>\n",
    "    <span style=\"float: right;\">\n",
    "       Machine Learning 2<br>\n",
    "        <span style=\"float: right;\">SS 2023</span>\n",
    "    </span>\n",
    "</p>"
   ]
  },
  {
   "cell_type": "markdown",
   "metadata": {},
   "source": [
    "[//]: # \"Header Aufgabenblatt\"\n",
    "<br>\n",
    "<p style=\"text-align: center;  font-size:18pt; LINE-HEIGHT:30px;\">\n",
    "     <span style=\"font-weight: bold;\">Aufgabenblatt 3</span><br>\n",
    "     Themen: Regularization, Training Neuronaler Netze<br>\n",
    "     Abgabetermin: 14.05.2022, 23:59 Uhr<br>\n",
    "     Punkte: 26\n",
    "</p>\n"
   ]
  },
  {
   "cell_type": "markdown",
   "metadata": {},
   "source": [
    "---\n",
    "\n",
    "**Namen:** Emelie Hauck, Conrad Christoph\n",
    "\n",
    "---"
   ]
  },
  {
   "cell_type": "code",
   "execution_count": null,
   "metadata": {},
   "outputs": [],
   "source": [
    "# Packages\n",
    "import numpy as np\n",
    "import matplotlib.pyplot as plt\n",
    "\n",
    "import torch\n",
    "import torch.nn as nn\n",
    "import torch.nn.functional as F\n",
    "import torch.optim as optim\n",
    "import torchvision\n",
    "\n",
    "import time\n",
    "\n",
    "plt.style.use('ggplot')"
   ]
  },
  {
   "attachments": {},
   "cell_type": "markdown",
   "metadata": {},
   "source": [
    "## Aufgabe 1 [10 Punkte]\n",
    "\n",
    "**Daten**<br>\n",
    "Der Datensatz `auto_vs_ship_train` bzw. `auto_vs_ship_test` enthält farbige Bilder von Schiffen und Autos der Größe 32x32. Die Bilder sind entnommen aus dem CIFAR10 Datensatz.\n",
    "\n",
    "**Aufgabe**\n",
    "1. Trainieren Sie das unten angegebene Neuronale Netz, welches die Bilder in Schiffe und Autos klassifizieren soll, mittels SGD für 40 Epochen und Batch-Size 32. Nehmen Sie als Evaluationsmetrik die Cross-Entropy. Visualisieren Sie den Verlauf der Loss-Kurven und interpretieren Sie das Ergebnis. Welches Problem liegt hier vor?\n",
    "1. Trainieren Sie das Neuronale Netz einmal mit Weight Decay mit geeignetem Parameter. Können Sie dadurch Overfitting verhindern?\n",
    "1. Fügen Sie an geeigneten Stellen zum Netz aus 1. Dropout hinzu, um so Overfitting zu verhindern.\n",
    "\n",
    "\n"
   ]
  },
  {
   "cell_type": "markdown",
   "metadata": {},
   "source": [
    "### Parameter und vordefinierte Funktionen"
   ]
  },
  {
   "cell_type": "code",
   "execution_count": null,
   "metadata": {},
   "outputs": [],
   "source": [
    "# Define Parameters\n",
    "n_epochs = 40\n",
    "\n",
    "learning_rate = 0.01\n",
    "log_interval = 20\n",
    "\n",
    "random_seed = 1\n",
    "torch.manual_seed(random_seed)"
   ]
  },
  {
   "cell_type": "markdown",
   "metadata": {},
   "source": [
    "**Daten laden**"
   ]
  },
  {
   "cell_type": "code",
   "execution_count": null,
   "metadata": {},
   "outputs": [],
   "source": [
    "train_data_dict = torch.load(\"Daten Blatt 4/auto_vs_ship_train\")\n",
    "test_data_dict = torch.load(\"Daten Blatt 4/auto_vs_ship_test\")"
   ]
  },
  {
   "cell_type": "code",
   "execution_count": null,
   "metadata": {},
   "outputs": [],
   "source": [
    "train_data = train_data_dict[\"data\"]\n",
    "train_targets = train_data_dict[\"targets\"]\n",
    "classes = train_data_dict[\"classes\"]"
   ]
  },
  {
   "cell_type": "code",
   "execution_count": null,
   "metadata": {},
   "outputs": [],
   "source": [
    "test_data = test_data_dict[\"data\"]\n",
    "test_targets = test_data_dict[\"targets\"]"
   ]
  },
  {
   "cell_type": "code",
   "execution_count": null,
   "metadata": {},
   "outputs": [],
   "source": [
    "# Plot images\n",
    "n = 5 # number of images\n",
    "start_pos = 43\n",
    "for i in range(n):\n",
    "  current_img = train_data[i+start_pos] / 2 +0.5 # Re-Normalize\n",
    "  plt.subplot(1, n, i+1)\n",
    "  plt.tight_layout()\n",
    "  plt.imshow(np.transpose(current_img, (1, 2, 0)), interpolation='none')\n",
    "  plt.xticks([])\n",
    "  plt.yticks([])\n",
    "  plt.title(classes[train_targets[i+start_pos]])\n",
    "plt.show()"
   ]
  },
  {
   "cell_type": "markdown",
   "metadata": {},
   "source": [
    "**Neuronales Netz**"
   ]
  },
  {
   "cell_type": "code",
   "execution_count": null,
   "metadata": {},
   "outputs": [],
   "source": [
    "# Definition of the net structure\n",
    "class Net(nn.Module):\n",
    "    def __init__(self, input_size):\n",
    "        super(Net, self).__init__()\n",
    "        self.input_size = input_size\n",
    "        \n",
    "        self.fc1 = nn.Linear(input_size, 128)\n",
    "        self.fc2 = nn.Linear(128, 64)\n",
    "        self.fc3 = nn.Linear(64, 2)\n",
    "        \n",
    "    def forward(self, x):\n",
    "        x = x.view(-1, self.input_size)\n",
    "        x = F.relu(self.fc1(x))\n",
    "        x = F.relu(self.fc2(x))\n",
    "        x = self.fc3(x)\n",
    "        return F.log_softmax(x, dim = 1)"
   ]
  },
  {
   "cell_type": "markdown",
   "metadata": {},
   "source": [
    "### Beginn Ihrer Lösung\n"
   ]
  },
  {
   "cell_type": "code",
   "execution_count": null,
   "metadata": {},
   "outputs": [],
   "source": [
    "..."
   ]
  },
  {
   "attachments": {},
   "cell_type": "markdown",
   "metadata": {},
   "source": [
    "## Aufgabe 2 [16 Punkte]\n",
    "\n",
    "**Daten**<br>\n",
    "Der Datensatz _Covertype_ aus dem UCI Machine Learning Repository (https://archive.ics.uci.edu/ml/datasets/Covertype bzw. https://github.com/jeffheaton/data/blob/master/covtype.csv) enthält unterschiedliche Attribute zur Beschaffenheit von Wäldern und eine Zielvariable `Cover_Type`, welche die Waldbezeichnung beschreibt. Mehr Informationen finden Sie in dem obigen Link.\n",
    "\n",
    "**Aufgabe**<br>\n",
    "Nutzen Sie alle Ihnen aus der Vorlesung bekannten Werkzeuge (z.B. Weight Initialization, Dropout, Batch Normalization, Adam, Momentum, ...), um ein Neuronales Netz zu trainieren, welches möglichst gut die Wälder nach Ihrer Cover_Type klassifiziert. Welchen Wert der Cross-Entropy und der Accuracy hat Ihr Neuronales Netz auf den Testdaten? Sie sollten auf den Testdaten eine Cross-Entropy unter 0.25 bzw. eine Accuracy von mind. 90% erreichen.\n",
    "\n",
    "_Hinweis:_ Sie können in den Skripten zur Vorlesung auf Moodle nachsehen, wie man die einzelnen Verfahren implementiert werden."
   ]
  },
  {
   "cell_type": "markdown",
   "metadata": {},
   "source": [
    "### Beginn Ihrer Lösung\n"
   ]
  },
  {
   "cell_type": "code",
   "execution_count": null,
   "metadata": {},
   "outputs": [],
   "source": [
    "..."
   ]
  }
 ],
 "metadata": {
  "kernelspec": {
   "display_name": "Python 3 (ipykernel)",
   "language": "python",
   "name": "python3"
  },
  "language_info": {
   "codemirror_mode": {
    "name": "ipython",
    "version": 3
   },
   "file_extension": ".py",
   "mimetype": "text/x-python",
   "name": "python",
   "nbconvert_exporter": "python",
   "pygments_lexer": "ipython3",
   "version": "3.9.7"
  }
 },
 "nbformat": 4,
 "nbformat_minor": 4
}
