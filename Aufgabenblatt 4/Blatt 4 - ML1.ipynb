{
 "cells": [
  {
   "cell_type": "markdown",
   "metadata": {},
   "source": [
    "---"
   ]
  },
  {
   "cell_type": "markdown",
   "metadata": {},
   "source": [
    "[//]: # \"Header\"\n",
    "\n",
    "<p style=\"text-align: left;  font-size:18pt; LINE-HEIGHT:30px;\">\n",
    "    <span style=\"float: left\">\n",
    "     Technische Hochschule Ingolstadt<br>\n",
    "     Prof. Dr. Sören Gröttrup <br>\n",
    "     Laura Dietl\n",
    "    </span>\n",
    "    <span style=\"float: right;\">\n",
    "       Machine Learning 1<br>\n",
    "        <span style=\"float: right;\">WS 24/25</span>\n",
    "    </span>\n",
    "</p>"
   ]
  },
  {
   "cell_type": "markdown",
   "metadata": {},
   "source": [
    "[//]: # \"Header Aufgabenblatt\"\n",
    "<br>\n",
    "<p style=\"text-align: center;  font-size:18pt; LINE-HEIGHT:30px;\">\n",
    "     <span style=\"font-weight: bold;\">Aufgabenblatt 4</span><br>\n",
    "     Themen: Imputing, Neuronale Netze in PyTorch, Backpropagation<br>\n",
    "     Abgabetermin: 29.11.2024, 23:59 Uhr <br>\n",
    "     Punkte: 31\n",
    "</p>\n"
   ]
  },
  {
   "cell_type": "markdown",
   "metadata": {},
   "source": [
    "---"
   ]
  },
  {
   "cell_type": "markdown",
   "metadata": {},
   "source": [
    "**Namen:** Conrad Christoph, Emelie Hauck"
   ]
  },
  {
   "cell_type": "markdown",
   "metadata": {},
   "source": [
    "---"
   ]
  },
  {
   "cell_type": "markdown",
   "metadata": {
    "tags": []
   },
   "source": [
    "# 1. Imputing - Dealing with Missing Values - Ein Weg mit fehlenden Werten umzugehen\n",
    "\n",
    "Bei einer Variablen in einem Datensatz kann es durchaus vorkommen, dass für einige Beobachtungen die Werte nicht bekannt sind. Zum Beispiel kann es sein, dass ein Kunde in einem Online-Shop sein Profil nicht vollkommen ausfüllt, so dass die Handynummer, das Alter oder gewisse Interessen nicht bekannt sind. Die Variable Handynummer in diesem Datensatz wäre dann für den jeweiligen Kunden nicht befüllt.\n",
    "\n",
    "Einige Algorithmen des Maschinellen Lernens können mit diesen fehlenden Werten nicht umgehen. Damit man einen Algorithmus trotzdem auf einen Datensatz mit einer Variable mit fehlenden Werten anwenden kann, gibt es einige einfache Strategien.\n",
    "\n",
    "**Ignoriere die fehlenden Werte (Omission)**\n",
    "\n",
    "Die einfachste und radikalste Methode ist die fehlenden Werte für das Training zu entfernen. Dies kann man auf zwei Arten machen:\n",
    "1. Entfernen der Variable aus dem Trainingsdatensatz. Z.B. im obigen Beispiel die Variable Handynummer nicht als Input-Variable zu nehmen.\n",
    "1. Entfernen aller Zeilen im Datensatz, die einen fehlenden Wert in einer zu berücksichtigen Variable aufweisen. Z.B. im obigen Beispiel alle Kunden ohne Handynummer aus dem Tainingsdatensatz ausschließen.\n",
    "\n",
    "**Imputing**\n",
    "\n",
    "Anstatt die fehlenden Werte zu entfernen, kann man auch versuchen, diese mit \"geeigneten\" Werten aufzufüllen. Dafür gibt es mehrere einfache Methoden.\n",
    "1. _Constant Value Imputing_ Wenn der Kontext es hergibt, können alle fehlenden Werte einer Variablen mit einem Standardwert aufgefüllt werden. \n",
    "    1. Bei einer kategoriellen Variable können z.B. die fehlenden Werte mit 'unknown' oder 'other' ersetzt werden. Wenn z.B. bei einem Kunden der Wert der Variable \"Intresse an Sportartikeln\" fehlt, kann dieser die neue Ausprägung \"unknown\" erhalten.\n",
    "    1. Wenn bei einer numerischen Variablen nur positive Werte auftreten können, wie z.B. bei der Variable \"Anzahl an Käufe\", kann der fehlende Wert sinnvollerweise mit 0 ersetzt werden.\n",
    "1. _Mean/Median/Mode Imputing_ Die fehlenden Werte einer Variablen werden durch deren arithmetisches Mittel, den Median oder den Modus ersetzt. Diese repräsentiern \"typische\" Werte für die Variable.\n",
    "    1. Bei kategoriellen Variablen werden die fehlenden Werte durch die am häufigsten auftretende Ausprägung ersetzt (den Modus).\n",
    "    1. Bei numerischen Variablen werden die fehlenden Werte mit dem arithmetischen Mittel oder dem Median der anderen Ausprägungen der Variable ersetzt.\n",
    "\n",
    "Dies sind nur die einfachen und univariaten Methoden des Imputing. Weitere multivariate Imputing-Verfahren wie die Benutzung von Vorhersagemodellen werden in der Vorlesung besprochen."
   ]
  },
  {
   "cell_type": "markdown",
   "metadata": {},
   "source": [
    "## Aufgabe 1.1 (Vor- & Nachteile der Imputing-Verfahren) [6 Punkte]\n",
    "Betrachten Sie die oben genannten Omission und Imputing-Verfahren. Welche Vor- und Nachteile könnten diese Verfahren jeweils haben?"
   ]
  },
  {
   "cell_type": "markdown",
   "metadata": {
    "tags": []
   },
   "source": [
    "**Antwort zu Aufgabe 1.1**\n"
   ]
  },
  {
   "cell_type": "markdown",
   "metadata": {},
   "source": [
    "Omission:\n",
    "| Verfahren | Vorteile             | Nachteile                                                                                              |\n",
    "|-----------|----------------------|--------------------------------------------------------------------------------------------------------|\n",
    "| 1.        |- Alle Daten sind Uniform <br>- eingefügte Werte ändern die Ergebnisse nicht/keine nicht vorhandenen Daten müssen angenommen werden <br>- alle Datenpunkte bleiben erhalten <br > - unkompliziertes/schnelles Verfahren|- Die entfernte Variable ist potentiell ausschlaggebend für das Ergebnis <br>                             |\n",
    "| 2.        |- Alle Daten sind Uniform <br>- eingefügte Werte ändern die Ergebnisse nicht/keine nicht vorhandenen Daten müssen angenommen werden <br>- potentiell ausschlaggebende Variablen bleiben erhalten                           |- Sollten viele Datenpunkte unvolsständig sein, so führt das Verfahren zu großem Verlust knapper Daten   |\n",
    "\n",
    "Imputing:\n",
    "| Verfahren                      | Vorteile                                                                                                                                     | Nachteile |\n",
    "|--------------------------------|----------------------------------------------------------------------------------------------------------------------------------------------|-----------|\n",
    "| Constant Value Imputing        |- keine nicht vorhandenen Angaben werden angenommen<br>- Struktur der Daten bleibt erhalten <br>- Stichprobenumfang bleibt erhalten           |- Das Modell könnte Ergebnisse o. zu viel Information aus der Unknown Variable ziehen<br> - Es werden nicht korrekte Daten angenommen, die die Vorhersage verzerren könnten                                                |\n",
    "| Mean/Median/Mode Imputing      |- kann über verschiedene Annahmemethoden (Mean,Median,etc.) Strukturen im Datensatz berücksichtigen<br>- Stichprobenumfang bleibt erhalten    | - basiert auf Annahmen, die teilweise aufwändig errechnet werden müssen<br>- es könnten systematische Verzerrungen entstehen                                                                                            | \n"
   ]
  },
  {
   "cell_type": "markdown",
   "metadata": {},
   "source": [
    "# 2. Neuronale Netze mit PyTorch"
   ]
  },
  {
   "cell_type": "markdown",
   "metadata": {},
   "source": [
    "### Daten\n",
    "\n",
    "Der Datensatz `gt.csv` (zu finden auf der Moodle-Seite des Praktikums (https://moodle.thi.de/course/view.php?id=6824)) ist eine etwas abgewandelte und bearbeitete Version des Datensatzes aus dem UCI Machine Learning Repository (https://archive.ics.uci.edu/ml/datasets/Gas+Turbine+CO+and+NOx+Emission+Data+Set). \n",
    "\n",
    "Der Datensatz enthält 36733 Messpunkte von je 11 Sensoren einer Gasturbine im Nordwesten der Türkei. Die einzelnen Werte sind dabei jeweils Aggregate (Summe oder Mittelwert) über eine Stunde. Die Sensordaten diesen dazu die Gasemissionender Turbine, insb. CO und NOx (NO & NO2), zu messen."
   ]
  },
  {
   "cell_type": "markdown",
   "metadata": {},
   "source": [
    "#### Initialisierung der Daten\n",
    "Hier finden Sie bereits geschriebenen Code, der die Daten einliest und in Trainings- und Testdaten splittet. __Bitte verändern Sie diesen Code nicht__, sondern fügen Ihren Code unterhalb ein."
   ]
  },
  {
   "cell_type": "code",
   "execution_count": 5,
   "metadata": {},
   "outputs": [],
   "source": [
    "# Packages\n",
    "import numpy as np\n",
    "import matplotlib.pyplot as plt\n",
    "import pandas as pd\n",
    "import seaborn as sns\n",
    "from sklearn.model_selection import train_test_split\n",
    "\n",
    "plt.style.use('ggplot')"
   ]
  },
  {
   "cell_type": "code",
   "execution_count": 6,
   "metadata": {},
   "outputs": [
    {
     "data": {
      "text/html": [
       "<div>\n",
       "<style scoped>\n",
       "    .dataframe tbody tr th:only-of-type {\n",
       "        vertical-align: middle;\n",
       "    }\n",
       "\n",
       "    .dataframe tbody tr th {\n",
       "        vertical-align: top;\n",
       "    }\n",
       "\n",
       "    .dataframe thead th {\n",
       "        text-align: right;\n",
       "    }\n",
       "</style>\n",
       "<table border=\"1\" class=\"dataframe\">\n",
       "  <thead>\n",
       "    <tr style=\"text-align: right;\">\n",
       "      <th></th>\n",
       "      <th>AT</th>\n",
       "      <th>AP</th>\n",
       "      <th>AH</th>\n",
       "      <th>AFDP</th>\n",
       "      <th>GTEP</th>\n",
       "      <th>TIT</th>\n",
       "      <th>TAT</th>\n",
       "      <th>TEY</th>\n",
       "      <th>CDP</th>\n",
       "      <th>CO</th>\n",
       "      <th>NOX</th>\n",
       "    </tr>\n",
       "  </thead>\n",
       "  <tbody>\n",
       "    <tr>\n",
       "      <th>0</th>\n",
       "      <td>4.5878</td>\n",
       "      <td>1018.7</td>\n",
       "      <td>83.675</td>\n",
       "      <td>3.5758</td>\n",
       "      <td>23.979</td>\n",
       "      <td>1086.2</td>\n",
       "      <td>549.83</td>\n",
       "      <td>134.67</td>\n",
       "      <td>NaN</td>\n",
       "      <td>0.32663</td>\n",
       "      <td>81.952</td>\n",
       "    </tr>\n",
       "    <tr>\n",
       "      <th>1</th>\n",
       "      <td>4.2932</td>\n",
       "      <td>1018.3</td>\n",
       "      <td>84.235</td>\n",
       "      <td>3.5709</td>\n",
       "      <td>23.951</td>\n",
       "      <td>1086.1</td>\n",
       "      <td>NaN</td>\n",
       "      <td>134.67</td>\n",
       "      <td>11.892</td>\n",
       "      <td>0.44784</td>\n",
       "      <td>82.377</td>\n",
       "    </tr>\n",
       "    <tr>\n",
       "      <th>2</th>\n",
       "      <td>3.9045</td>\n",
       "      <td>1018.4</td>\n",
       "      <td>84.858</td>\n",
       "      <td>3.5828</td>\n",
       "      <td>23.990</td>\n",
       "      <td>1086.5</td>\n",
       "      <td>550.19</td>\n",
       "      <td>135.10</td>\n",
       "      <td>12.042</td>\n",
       "      <td>0.45144</td>\n",
       "      <td>83.776</td>\n",
       "    </tr>\n",
       "    <tr>\n",
       "      <th>3</th>\n",
       "      <td>3.7436</td>\n",
       "      <td>1018.3</td>\n",
       "      <td>85.434</td>\n",
       "      <td>3.5808</td>\n",
       "      <td>23.911</td>\n",
       "      <td>1086.5</td>\n",
       "      <td>550.17</td>\n",
       "      <td>135.03</td>\n",
       "      <td>11.990</td>\n",
       "      <td>0.23107</td>\n",
       "      <td>82.505</td>\n",
       "    </tr>\n",
       "    <tr>\n",
       "      <th>4</th>\n",
       "      <td>3.7516</td>\n",
       "      <td>1017.8</td>\n",
       "      <td>85.182</td>\n",
       "      <td>3.5781</td>\n",
       "      <td>23.917</td>\n",
       "      <td>1085.9</td>\n",
       "      <td>550.00</td>\n",
       "      <td>134.67</td>\n",
       "      <td>11.910</td>\n",
       "      <td>0.26747</td>\n",
       "      <td>82.028</td>\n",
       "    </tr>\n",
       "    <tr>\n",
       "      <th>...</th>\n",
       "      <td>...</td>\n",
       "      <td>...</td>\n",
       "      <td>...</td>\n",
       "      <td>...</td>\n",
       "      <td>...</td>\n",
       "      <td>...</td>\n",
       "      <td>...</td>\n",
       "      <td>...</td>\n",
       "      <td>...</td>\n",
       "      <td>...</td>\n",
       "      <td>...</td>\n",
       "    </tr>\n",
       "    <tr>\n",
       "      <th>36728</th>\n",
       "      <td>3.6268</td>\n",
       "      <td>1028.5</td>\n",
       "      <td>93.200</td>\n",
       "      <td>3.1661</td>\n",
       "      <td>19.087</td>\n",
       "      <td>1037.0</td>\n",
       "      <td>541.59</td>\n",
       "      <td>109.08</td>\n",
       "      <td>10.411</td>\n",
       "      <td>10.99300</td>\n",
       "      <td>89.172</td>\n",
       "    </tr>\n",
       "    <tr>\n",
       "      <th>36729</th>\n",
       "      <td>4.1674</td>\n",
       "      <td>1028.6</td>\n",
       "      <td>94.036</td>\n",
       "      <td>3.1923</td>\n",
       "      <td>19.016</td>\n",
       "      <td>1037.6</td>\n",
       "      <td>542.28</td>\n",
       "      <td>108.79</td>\n",
       "      <td>10.344</td>\n",
       "      <td>11.14400</td>\n",
       "      <td>88.849</td>\n",
       "    </tr>\n",
       "    <tr>\n",
       "      <th>36730</th>\n",
       "      <td>5.4820</td>\n",
       "      <td>1028.5</td>\n",
       "      <td>95.219</td>\n",
       "      <td>3.3128</td>\n",
       "      <td>18.857</td>\n",
       "      <td>1038.0</td>\n",
       "      <td>543.48</td>\n",
       "      <td>107.81</td>\n",
       "      <td>10.462</td>\n",
       "      <td>11.41400</td>\n",
       "      <td>96.147</td>\n",
       "    </tr>\n",
       "    <tr>\n",
       "      <th>36731</th>\n",
       "      <td>5.8837</td>\n",
       "      <td>1028.7</td>\n",
       "      <td>94.200</td>\n",
       "      <td>3.9831</td>\n",
       "      <td>23.563</td>\n",
       "      <td>1076.9</td>\n",
       "      <td>550.11</td>\n",
       "      <td>131.41</td>\n",
       "      <td>11.771</td>\n",
       "      <td>3.31340</td>\n",
       "      <td>64.738</td>\n",
       "    </tr>\n",
       "    <tr>\n",
       "      <th>36732</th>\n",
       "      <td>6.0392</td>\n",
       "      <td>1028.8</td>\n",
       "      <td>94.547</td>\n",
       "      <td>3.8752</td>\n",
       "      <td>22.524</td>\n",
       "      <td>1067.9</td>\n",
       "      <td>548.23</td>\n",
       "      <td>125.41</td>\n",
       "      <td>11.462</td>\n",
       "      <td>11.98100</td>\n",
       "      <td>109.240</td>\n",
       "    </tr>\n",
       "  </tbody>\n",
       "</table>\n",
       "<p>36733 rows × 11 columns</p>\n",
       "</div>"
      ],
      "text/plain": [
       "           AT      AP      AH    AFDP    GTEP     TIT     TAT     TEY     CDP  \\\n",
       "0      4.5878  1018.7  83.675  3.5758  23.979  1086.2  549.83  134.67     NaN   \n",
       "1      4.2932  1018.3  84.235  3.5709  23.951  1086.1     NaN  134.67  11.892   \n",
       "2      3.9045  1018.4  84.858  3.5828  23.990  1086.5  550.19  135.10  12.042   \n",
       "3      3.7436  1018.3  85.434  3.5808  23.911  1086.5  550.17  135.03  11.990   \n",
       "4      3.7516  1017.8  85.182  3.5781  23.917  1085.9  550.00  134.67  11.910   \n",
       "...       ...     ...     ...     ...     ...     ...     ...     ...     ...   \n",
       "36728  3.6268  1028.5  93.200  3.1661  19.087  1037.0  541.59  109.08  10.411   \n",
       "36729  4.1674  1028.6  94.036  3.1923  19.016  1037.6  542.28  108.79  10.344   \n",
       "36730  5.4820  1028.5  95.219  3.3128  18.857  1038.0  543.48  107.81  10.462   \n",
       "36731  5.8837  1028.7  94.200  3.9831  23.563  1076.9  550.11  131.41  11.771   \n",
       "36732  6.0392  1028.8  94.547  3.8752  22.524  1067.9  548.23  125.41  11.462   \n",
       "\n",
       "             CO      NOX  \n",
       "0       0.32663   81.952  \n",
       "1       0.44784   82.377  \n",
       "2       0.45144   83.776  \n",
       "3       0.23107   82.505  \n",
       "4       0.26747   82.028  \n",
       "...         ...      ...  \n",
       "36728  10.99300   89.172  \n",
       "36729  11.14400   88.849  \n",
       "36730  11.41400   96.147  \n",
       "36731   3.31340   64.738  \n",
       "36732  11.98100  109.240  \n",
       "\n",
       "[36733 rows x 11 columns]"
      ]
     },
     "execution_count": 6,
     "metadata": {},
     "output_type": "execute_result"
    }
   ],
   "source": [
    "# Load data\n",
    "file_path = \"Daten Blatt 4/gt.csv\"\n",
    "data = pd.read_csv(file_path)\n",
    "data"
   ]
  },
  {
   "cell_type": "code",
   "execution_count": 7,
   "metadata": {},
   "outputs": [],
   "source": [
    "# Define target and feature\n",
    "y = data.NOX\n",
    "X = data.drop(columns=[\"CO\", \"NOX\"])"
   ]
  },
  {
   "cell_type": "code",
   "execution_count": 8,
   "metadata": {},
   "outputs": [],
   "source": [
    "# Split data into training and test set\n",
    "X_train, X_test, y_train, y_test = train_test_split(X, y, test_size = 0.2, random_state=1)\n",
    "\n",
    "X_train = pd.DataFrame(X_train, columns=X.columns)\n",
    "X_test = pd.DataFrame(X_test, columns=X.columns)"
   ]
  },
  {
   "cell_type": "markdown",
   "metadata": {},
   "source": [
    "## Aufgabe 2.1 (Datenaufbereitung) [4 Punkte]\n",
    "\n",
    "Untersuchen Sie den Datensatz der Sensordaten einer Gasturbine `gt.csv`.\n",
    "\n",
    "1. Welche Variablen weisen fehlende Werte auf?\n",
    "1. Ersetzen Sie diese mittels eines sinnvollen oben genannten Imputing-Verfahrens. _Hinweis_: Sie können dafür die Funktion `SimpleImputer()` aus dem `sklearn` Paket verwenden. Informieren Sie sich vorher über deren Funktionsweise und Optionen.\n",
    "1. Was für ein Vorverarbeitungsschritt scheint noch sinnvoll zu sein? Führen Sie diesen ggf. auch durch.\n",
    "\n",
    "_Achtung_: Behalten Sie bei Ihren Datenoperationen die gegebene Aufteilung in Training- und Testdaten bei."
   ]
  },
  {
   "cell_type": "markdown",
   "metadata": {},
   "source": [
    "### Lösung Aufgabe 2.1"
   ]
  },
  {
   "cell_type": "code",
   "execution_count": 17,
   "metadata": {},
   "outputs": [],
   "source": [
    "from sklearn.impute import SimpleImputer\n",
    "from sklearn.preprocessing import StandardScaler"
   ]
  },
  {
   "cell_type": "code",
   "execution_count": 18,
   "metadata": {},
   "outputs": [
    {
     "name": "stdout",
     "output_type": "stream",
     "text": [
      "AT      False\n",
      "AP      False\n",
      "AH      False\n",
      "AFDP    False\n",
      "GTEP    False\n",
      "TIT     False\n",
      "TAT      True\n",
      "TEY     False\n",
      "CDP      True\n",
      "CO      False\n",
      "NOX     False\n",
      "dtype: bool\n"
     ]
    }
   ],
   "source": [
    "# 2.1.1\n",
    "\n",
    "empty_cells = data.isnull().any(axis=0)\n",
    "print(empty_cells)"
   ]
  },
  {
   "cell_type": "markdown",
   "metadata": {},
   "source": [
    "Die Variablen TAT & CDP weisen fehlende Werte auf."
   ]
  },
  {
   "cell_type": "code",
   "execution_count": 19,
   "metadata": {},
   "outputs": [],
   "source": [
    "# 2.1.2\n",
    "\n",
    "imputer = SimpleImputer(strategy='median')\n",
    "\n",
    "imputer.fit(X_train)\n",
    "imputed_x_train = imputer.transform(X_train)\n",
    "\n",
    "imputer.fit(X_test)\n",
    "imputed_x_test = imputer.transform(X_test)"
   ]
  },
  {
   "cell_type": "markdown",
   "metadata": {},
   "source": [
    "#### 2.1.3\n",
    "\n",
    "Die Daten weisen unterschiedliche Größen auf (z.B. AT im 1-2 stelligen Bereich vor dem Komma und AP im vierstelligen Bereich vor dem Komma) entsprechend wäre eine Skalierung sinnvoll, da einige Verfahren nur mit skalierten Daten präzise Ergebnisse liefern.    "
   ]
  },
  {
   "cell_type": "code",
   "execution_count": 20,
   "metadata": {},
   "outputs": [],
   "source": [
    "scaler = StandardScaler()\n",
    "\n",
    "x_train_sc_imp = scaler.fit_transform(imputed_x_train)\n",
    "\n",
    "x_test_sc_imp = scaler.transform(imputed_x_test)"
   ]
  },
  {
   "cell_type": "markdown",
   "metadata": {},
   "source": [
    "## Aufgabe 2.2 (Training in PyTorch) [12 Punkte]\n",
    "Erstellen Sie ein Feedforward Neuronales Netz auf dem in der vorherigen Aufgabe 2.1 aufbereiteten Datensatz mittels PyTorch, welches basierend auf den anderen Sensordaten die NOx-Emission vorhersagen kann. Benutzen Sie dabei den L2-Loss als Kostenfunktion. Welchen RMSE erzielt Ihr trainiertes Neuronales Netz, wenn Sie dies auf die Testdaten (`X_test, y_test`) anwenden?\n",
    "\n",
    "In dieser Aufgabe gibt es keinerlei weitere Vorgabe an das zu implementierende Modell. Sie sind in der Struktur des Netzes und dem Vorgehen frei. Um aber die volle Punkzahl zu erhalten, müssen Sie ein sinnvolles Netz trainieren, d.h. die Optimierung mittels Gradient Descent konvergiert, kein Overfitting etc.. Versuchen Sie auch den RMSE so klein wie möglich zu bekommen.\n",
    "\n",
    "_Hinweis_: Anstatt Ihre aufbereiteten Daten zu nehmen, können Sie auch schon vorverarbeitete Daten einlesen durch den Befehl `data = torch.load(\"Daten Blatt 4/gt_prepared\")`\n",
    "Dieser liest ein Dictionary ein, in welchem Sie Tensoren der Trainings- und Testdaten finden. Der Befehl `data.keys()` zeigt Ihnen die Key-Namen. "
   ]
  },
  {
   "cell_type": "markdown",
   "metadata": {},
   "source": [
    "### Lösung der Aufgabe 2.2"
   ]
  },
  {
   "cell_type": "code",
   "execution_count": 21,
   "metadata": {},
   "outputs": [],
   "source": [
    "# Load packages\n",
    "import torch\n",
    "import torch.nn as net\n",
    "import torch.nn.functional as F\n",
    "import torch.optim as optim"
   ]
  },
  {
   "cell_type": "code",
   "execution_count": 22,
   "metadata": {},
   "outputs": [
    {
     "data": {
      "text/plain": [
       "Ellipsis"
      ]
     },
     "execution_count": 22,
     "metadata": {},
     "output_type": "execute_result"
    }
   ],
   "source": [
    "..."
   ]
  },
  {
   "cell_type": "markdown",
   "metadata": {},
   "source": [
    "# 3. Parameter eines Neuronalen Netzes"
   ]
  },
  {
   "cell_type": "markdown",
   "metadata": {},
   "source": [
    "## Aufgabe 3.1 [3 Punkte]\n",
    "Gegeben ist das in PyTorch definierte Neuronale Netze\n",
    "   \n",
    "![fc_nn](Bilder/fc_nn.png)\n",
    "\n",
    "Bestimmen Sie  die Anzahl zu optimierender Parameter."
   ]
  },
  {
   "cell_type": "markdown",
   "metadata": {},
   "source": [
    "### Antwort zu Aufgabe 3.1\n",
    "\n",
    "...\n"
   ]
  },
  {
   "cell_type": "markdown",
   "metadata": {},
   "source": [
    "# 4. Backpropagation"
   ]
  },
  {
   "cell_type": "markdown",
   "metadata": {},
   "source": [
    "## Aufgabe 4.1 [6 Punkte]\n",
    "Gegeben ist folgendes Neuronale Netze\n",
    "   \n",
    "![fc_nn](Bilder/NN_backpropagation.png)\n",
    "\n",
    "mit folgenden Gewichtsmatrizen \n",
    "\n",
    "$$W^{(1)}=\\left(\\begin{array}{cc} \n",
    "1 & 1\\\\ \n",
    "2 & -2\n",
    "\\end{array}\\right)\n",
    "\\quad\\text{und}\\quad\n",
    "W^{(2)}=\\left(\\begin{array}{c} \n",
    "1\\\\ \n",
    "-1\n",
    "\\end{array}\\right) $$\n",
    "\n",
    "und Biases\n",
    "\n",
    "$$b^{(1)}=\\left(\\begin{array}{c} \n",
    "-1\\\\ \n",
    "0\n",
    "\\end{array}\\right)\n",
    "\\quad\\text{und}\\quad\n",
    "b^{(2)}= -4$$\n",
    "\n",
    "Die Aktivierungsfunktionen sind folgende:\n",
    "* Hidden Layer: ReLU\n",
    "* Output Layer: Identität\n",
    "\n",
    "Als Verlustfunktion wird der L2-Loss genommen\n",
    "$$L(y,a)=\\frac12(y-a)^2$$\n",
    "\n",
    "__Aufgabe:__\n",
    "1. Führen Sie ein Update der Parameter mittels Backpropagation durch für den Datenpunkt\n",
    "$$x=\\left(\\begin{array}{c} \n",
    "1\\\\ \n",
    "1 \n",
    "\\end{array}\\right) $$\n",
    "mit wahrem Zielwert \n",
    "$$ y= -1$$\n",
    "und der Lernrate $\\alpha=0.1$ durch.\n",
    "1. Wie groß ist der neue Verlust nach dem Parameterupdate? Vergleichen Sie das mit dem Verlust vor durchführung des Updates der Parameter.\n"
   ]
  },
  {
   "cell_type": "markdown",
   "metadata": {},
   "source": [
    "### Lösung Aufgabe 4.1\n",
    "\n",
    "..."
   ]
  }
 ],
 "metadata": {
  "kernelspec": {
   "display_name": "Python 3",
   "language": "python",
   "name": "python3"
  },
  "language_info": {
   "codemirror_mode": {
    "name": "ipython",
    "version": 3
   },
   "file_extension": ".py",
   "mimetype": "text/x-python",
   "name": "python",
   "nbconvert_exporter": "python",
   "pygments_lexer": "ipython3",
   "version": "3.12.7"
  }
 },
 "nbformat": 4,
 "nbformat_minor": 4
}
