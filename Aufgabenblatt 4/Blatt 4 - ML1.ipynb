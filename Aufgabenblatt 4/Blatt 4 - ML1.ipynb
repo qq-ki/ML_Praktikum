{
 "cells": [
  {
   "cell_type": "markdown",
   "metadata": {},
   "source": [
    "---"
   ]
  },
  {
   "cell_type": "markdown",
   "metadata": {},
   "source": [
    "[//]: # \"Header\"\n",
    "\n",
    "<p style=\"text-align: left;  font-size:18pt; LINE-HEIGHT:30px;\">\n",
    "    <span style=\"float: left\">\n",
    "     Technische Hochschule Ingolstadt<br>\n",
    "     Prof. Dr. Sören Gröttrup <br>\n",
    "     Laura Dietl\n",
    "    </span>\n",
    "    <span style=\"float: right;\">\n",
    "       Machine Learning 1<br>\n",
    "        <span style=\"float: right;\">WS 24/25</span>\n",
    "    </span>\n",
    "</p>"
   ]
  },
  {
   "cell_type": "markdown",
   "metadata": {},
   "source": [
    "[//]: # \"Header Aufgabenblatt\"\n",
    "<br>\n",
    "<p style=\"text-align: center;  font-size:18pt; LINE-HEIGHT:30px;\">\n",
    "     <span style=\"font-weight: bold;\">Aufgabenblatt 4</span><br>\n",
    "     Themen: Imputing, Neuronale Netze in PyTorch, Backpropagation<br>\n",
    "     Abgabetermin: 29.11.2024, 23:59 Uhr <br>\n",
    "     Punkte: 31\n",
    "</p>\n"
   ]
  },
  {
   "cell_type": "markdown",
   "metadata": {},
   "source": [
    "---"
   ]
  },
  {
   "cell_type": "markdown",
   "metadata": {},
   "source": [
    "**Namen:** Conrad Christoph, Emelie Hauck"
   ]
  },
  {
   "cell_type": "markdown",
   "metadata": {},
   "source": [
    "---"
   ]
  },
  {
   "cell_type": "markdown",
   "metadata": {
    "tags": []
   },
   "source": [
    "# 1. Imputing - Dealing with Missing Values - Ein Weg mit fehlenden Werten umzugehen\n",
    "\n",
    "Bei einer Variablen in einem Datensatz kann es durchaus vorkommen, dass für einige Beobachtungen die Werte nicht bekannt sind. Zum Beispiel kann es sein, dass ein Kunde in einem Online-Shop sein Profil nicht vollkommen ausfüllt, so dass die Handynummer, das Alter oder gewisse Interessen nicht bekannt sind. Die Variable Handynummer in diesem Datensatz wäre dann für den jeweiligen Kunden nicht befüllt.\n",
    "\n",
    "Einige Algorithmen des Maschinellen Lernens können mit diesen fehlenden Werten nicht umgehen. Damit man einen Algorithmus trotzdem auf einen Datensatz mit einer Variable mit fehlenden Werten anwenden kann, gibt es einige einfache Strategien.\n",
    "\n",
    "**Ignoriere die fehlenden Werte (Omission)**\n",
    "\n",
    "Die einfachste und radikalste Methode ist die fehlenden Werte für das Training zu entfernen. Dies kann man auf zwei Arten machen:\n",
    "1. Entfernen der Variable aus dem Trainingsdatensatz. Z.B. im obigen Beispiel die Variable Handynummer nicht als Input-Variable zu nehmen.\n",
    "1. Entfernen aller Zeilen im Datensatz, die einen fehlenden Wert in einer zu berücksichtigen Variable aufweisen. Z.B. im obigen Beispiel alle Kunden ohne Handynummer aus dem Tainingsdatensatz ausschließen.\n",
    "\n",
    "**Imputing**\n",
    "\n",
    "Anstatt die fehlenden Werte zu entfernen, kann man auch versuchen, diese mit \"geeigneten\" Werten aufzufüllen. Dafür gibt es mehrere einfache Methoden.\n",
    "1. _Constant Value Imputing_ Wenn der Kontext es hergibt, können alle fehlenden Werte einer Variablen mit einem Standardwert aufgefüllt werden. \n",
    "    1. Bei einer kategoriellen Variable können z.B. die fehlenden Werte mit 'unknown' oder 'other' ersetzt werden. Wenn z.B. bei einem Kunden der Wert der Variable \"Intresse an Sportartikeln\" fehlt, kann dieser die neue Ausprägung \"unknown\" erhalten.\n",
    "    1. Wenn bei einer numerischen Variablen nur positive Werte auftreten können, wie z.B. bei der Variable \"Anzahl an Käufe\", kann der fehlende Wert sinnvollerweise mit 0 ersetzt werden.\n",
    "1. _Mean/Median/Mode Imputing_ Die fehlenden Werte einer Variablen werden durch deren arithmetisches Mittel, den Median oder den Modus ersetzt. Diese repräsentiern \"typische\" Werte für die Variable.\n",
    "    1. Bei kategoriellen Variablen werden die fehlenden Werte durch die am häufigsten auftretende Ausprägung ersetzt (den Modus).\n",
    "    1. Bei numerischen Variablen werden die fehlenden Werte mit dem arithmetischen Mittel oder dem Median der anderen Ausprägungen der Variable ersetzt.\n",
    "\n",
    "Dies sind nur die einfachen und univariaten Methoden des Imputing. Weitere multivariate Imputing-Verfahren wie die Benutzung von Vorhersagemodellen werden in der Vorlesung besprochen."
   ]
  },
  {
   "cell_type": "markdown",
   "metadata": {},
   "source": [
    "## Aufgabe 1.1 (Vor- & Nachteile der Imputing-Verfahren) [6 Punkte]\n",
    "Betrachten Sie die oben genannten Omission und Imputing-Verfahren. Welche Vor- und Nachteile könnten diese Verfahren jeweils haben?"
   ]
  },
  {
   "cell_type": "markdown",
   "metadata": {
    "tags": []
   },
   "source": [
    "**Antwort zu Aufgabe 1.1**\n"
   ]
  },
  {
   "cell_type": "markdown",
   "metadata": {},
   "source": [
    "Omission:\n",
    "| Verfahren | Vorteile             | Nachteile                                                                                              |\n",
    "|-----------|----------------------|--------------------------------------------------------------------------------------------------------|\n",
    "| 1.        |- Alle Daten sind Uniform <br>- eingefügte Werte ändern die Ergebnisse nicht/keine nicht vorhandenen Daten müssen angenommen werden <br>- alle Datenpunkte bleiben erhalten <br > - unkompliziertes/schnelles Verfahren|- Die entfernte Variable ist potentiell ausschlaggebend für das Ergebnis <br>                             |\n",
    "| 2.        |- Alle Daten sind Uniform <br>- eingefügte Werte ändern die Ergebnisse nicht/keine nicht vorhandenen Daten müssen angenommen werden <br>- potentiell ausschlaggebende Variablen bleiben erhalten                           |- Sollten viele Datenpunkte unvolsständig sein, so führt das Verfahren zu großem Verlust knapper Daten   |\n",
    "\n",
    "Imputing:\n",
    "| Verfahren                      | Vorteile                                                                                                                                     | Nachteile |\n",
    "|--------------------------------|----------------------------------------------------------------------------------------------------------------------------------------------|-----------|\n",
    "| Constant Value Imputing        |- keine nicht vorhandenen Angaben werden angenommen<br>- Struktur der Daten bleibt erhalten <br>- Stichprobenumfang bleibt erhalten           |- Das Modell könnte Ergebnisse o. zu viel Information aus der Unknown Variable ziehen<br> - Es werden nicht korrekte Daten angenommen, die die Vorhersage verzerren könnten                                                |\n",
    "| Mean/Median/Mode Imputing      |- kann über verschiedene Annahmemethoden (Mean,Median,etc.) Strukturen im Datensatz berücksichtigen<br>- Stichprobenumfang bleibt erhalten    | - basiert auf Annahmen, die teilweise aufwändig errechnet werden müssen<br>- es könnten systematische Verzerrungen entstehen                                                                                            | \n"
   ]
  },
  {
   "cell_type": "markdown",
   "metadata": {},
   "source": [
    "# 2. Neuronale Netze mit PyTorch"
   ]
  },
  {
   "cell_type": "markdown",
   "metadata": {},
   "source": [
    "### Daten\n",
    "\n",
    "Der Datensatz `gt.csv` (zu finden auf der Moodle-Seite des Praktikums (https://moodle.thi.de/course/view.php?id=6824)) ist eine etwas abgewandelte und bearbeitete Version des Datensatzes aus dem UCI Machine Learning Repository (https://archive.ics.uci.edu/ml/datasets/Gas+Turbine+CO+and+NOx+Emission+Data+Set). \n",
    "\n",
    "Der Datensatz enthält 36733 Messpunkte von je 11 Sensoren einer Gasturbine im Nordwesten der Türkei. Die einzelnen Werte sind dabei jeweils Aggregate (Summe oder Mittelwert) über eine Stunde. Die Sensordaten diesen dazu die Gasemissionender Turbine, insb. CO und NOx (NO & NO2), zu messen."
   ]
  },
  {
   "cell_type": "markdown",
   "metadata": {},
   "source": [
    "#### Initialisierung der Daten\n",
    "Hier finden Sie bereits geschriebenen Code, der die Daten einliest und in Trainings- und Testdaten splittet. __Bitte verändern Sie diesen Code nicht__, sondern fügen Ihren Code unterhalb ein."
   ]
  },
  {
   "cell_type": "code",
   "execution_count": null,
   "metadata": {},
   "outputs": [],
   "source": [
    "# Packages\n",
    "import numpy as np\n",
    "import matplotlib.pyplot as plt\n",
    "import pandas as pd\n",
    "import seaborn as sns\n",
    "from sklearn.model_selection import train_test_split\n",
    "\n",
    "plt.style.use('ggplot')"
   ]
  },
  {
   "cell_type": "code",
   "execution_count": null,
   "metadata": {},
   "outputs": [],
   "source": [
    "# Load data\n",
    "file_path = \"Daten Blatt 4/gt.csv\"\n",
    "data = pd.read_csv(file_path)\n",
    "data"
   ]
  },
  {
   "cell_type": "code",
   "execution_count": null,
   "metadata": {},
   "outputs": [],
   "source": [
    "# Define target and feature\n",
    "y = data.NOX\n",
    "X = data.drop(columns=[\"CO\", \"NOX\"])"
   ]
  },
  {
   "cell_type": "code",
   "execution_count": null,
   "metadata": {},
   "outputs": [],
   "source": [
    "# Split data into training and test set\n",
    "X_train, X_test, y_train, y_test = train_test_split(X, y, test_size = 0.2, random_state=1)\n",
    "\n",
    "X_train = pd.DataFrame(X_train, columns=X.columns)\n",
    "X_test = pd.DataFrame(X_test, columns=X.columns)"
   ]
  },
  {
   "cell_type": "markdown",
   "metadata": {},
   "source": [
    "## Aufgabe 2.1 (Datenaufbereitung) [4 Punkte]\n",
    "\n",
    "Untersuchen Sie den Datensatz der Sensordaten einer Gasturbine `gt.csv`.\n",
    "\n",
    "1. Welche Variablen weisen fehlende Werte auf?\n",
    "1. Ersetzen Sie diese mittels eines sinnvollen oben genannten Imputing-Verfahrens. _Hinweis_: Sie können dafür die Funktion `SimpleImputer()` aus dem `sklearn` Paket verwenden. Informieren Sie sich vorher über deren Funktionsweise und Optionen.\n",
    "1. Was für ein Vorverarbeitungsschritt scheint noch sinnvoll zu sein? Führen Sie diesen ggf. auch durch.\n",
    "\n",
    "_Achtung_: Behalten Sie bei Ihren Datenoperationen die gegebene Aufteilung in Training- und Testdaten bei."
   ]
  },
  {
   "cell_type": "markdown",
   "metadata": {},
   "source": [
    "### Lösung Aufgabe 2.1"
   ]
  },
  {
   "cell_type": "code",
   "execution_count": null,
   "metadata": {},
   "outputs": [],
   "source": [
    "from sklearn.impute import SimpleImputer\n",
    "from sklearn.preprocessing import StandardScaler"
   ]
  },
  {
   "cell_type": "code",
   "execution_count": null,
   "metadata": {},
   "outputs": [],
   "source": [
    "# 2.1.1\n",
    "\n",
    "empty_cells = data.isnull().any(axis=0)\n",
    "print(empty_cells)"
   ]
  },
  {
   "cell_type": "markdown",
   "metadata": {},
   "source": [
    "Die Variablen TAT & CDP weisen fehlende Werte auf."
   ]
  },
  {
   "cell_type": "code",
   "execution_count": null,
   "metadata": {},
   "outputs": [],
   "source": [
    "# 2.1.2\n",
    "\n",
    "imputer = SimpleImputer(strategy='median')\n",
    "\n",
    "imputer.fit(X_train)\n",
    "imputed_x_train = imputer.transform(X_train)\n",
    "\n",
    "imputer.fit(X_test)\n",
    "imputed_x_test = imputer.transform(X_test)"
   ]
  },
  {
   "cell_type": "markdown",
   "metadata": {},
   "source": [
    "#### 2.1.3\n",
    "\n",
    "Die Daten weisen unterschiedliche Größen auf (z.B. AT im 1-2 stelligen Bereich vor dem Komma und AP im vierstelligen Bereich vor dem Komma) entsprechend wäre eine Skalierung sinnvoll, da einige Verfahren nur mit skalierten Daten präzise Ergebnisse liefern.    "
   ]
  },
  {
   "cell_type": "code",
   "execution_count": null,
   "metadata": {},
   "outputs": [],
   "source": [
    "scaler = StandardScaler()\n",
    "\n",
    "x_train_sc_imp = scaler.fit_transform(imputed_x_train)\n",
    "\n",
    "x_test_sc_imp = scaler.transform(imputed_x_test)"
   ]
  },
  {
   "cell_type": "markdown",
   "metadata": {},
   "source": [
    "## Aufgabe 2.2 (Training in PyTorch) [12 Punkte]\n",
    "Erstellen Sie ein Feedforward Neuronales Netz auf dem in der vorherigen Aufgabe 2.1 aufbereiteten Datensatz mittels PyTorch, welches basierend auf den anderen Sensordaten die NOx-Emission vorhersagen kann. Benutzen Sie dabei den L2-Loss als Kostenfunktion. Welchen RMSE erzielt Ihr trainiertes Neuronales Netz, wenn Sie dies auf die Testdaten (`X_test, y_test`) anwenden?\n",
    "\n",
    "In dieser Aufgabe gibt es keinerlei weitere Vorgabe an das zu implementierende Modell. Sie sind in der Struktur des Netzes und dem Vorgehen frei. Um aber die volle Punkzahl zu erhalten, müssen Sie ein sinnvolles Netz trainieren, d.h. die Optimierung mittels Gradient Descent konvergiert, kein Overfitting etc.. Versuchen Sie auch den RMSE so klein wie möglich zu bekommen.\n",
    "\n",
    "_Hinweis_: Anstatt Ihre aufbereiteten Daten zu nehmen, können Sie auch schon vorverarbeitete Daten einlesen durch den Befehl `data = torch.load(\"Daten Blatt 4/gt_prepared\")`\n",
    "Dieser liest ein Dictionary ein, in welchem Sie Tensoren der Trainings- und Testdaten finden. Der Befehl `data.keys()` zeigt Ihnen die Key-Namen. "
   ]
  },
  {
   "cell_type": "markdown",
   "metadata": {},
   "source": [
    "### Lösung der Aufgabe 2.2"
   ]
  },
  {
   "cell_type": "code",
   "execution_count": null,
   "metadata": {},
   "outputs": [],
   "source": [
    "# Load packages\n",
    "import torch\n",
    "import torch.nn as net\n",
    "import torch.nn.functional as F\n",
    "import torch.optim as optim"
   ]
  },
  {
   "cell_type": "code",
   "execution_count": 14,
   "metadata": {},
   "outputs": [
    {
     "name": "stderr",
     "output_type": "stream",
     "text": [
      "/tmp/ipykernel_2003/815055729.py:1: FutureWarning: You are using `torch.load` with `weights_only=False` (the current default value), which uses the default pickle module implicitly. It is possible to construct malicious pickle data which will execute arbitrary code during unpickling (See https://github.com/pytorch/pytorch/blob/main/SECURITY.md#untrusted-models for more details). In a future release, the default value for `weights_only` will be flipped to `True`. This limits the functions that could be executed during unpickling. Arbitrary objects will no longer be allowed to be loaded via this mode unless they are explicitly allowlisted by the user via `torch.serialization.add_safe_globals`. We recommend you start setting `weights_only=True` for any use case where you don't have full control of the loaded file. Please open an issue on GitHub for any issues related to this experimental feature.\n",
      "  data = torch.load(\"Daten Blatt 4/gt_prepared\")\n"
     ]
    }
   ],
   "source": [
    "data = torch.load(\"Daten Blatt 4/gt_prepared\")\n",
    "data.keys()\n",
    "\n",
    "X_train_new = data[\"train_data\"]\n",
    "y_train_new = data[\"train_target\"]\n",
    "y_train_new = y_train_new.unsqueeze(1)\n",
    "\n",
    "X_test_new = data[\"test_data\"]\n",
    "y_test_new = data[\"test_target\"]"
   ]
  },
  {
   "cell_type": "code",
   "execution_count": 16,
   "metadata": {},
   "outputs": [
    {
     "name": "stdout",
     "output_type": "stream",
     "text": [
      "Epoch 1/80, Loss: 4384.796875\n",
      "Epoch 2/80, Loss: 673449.3125\n",
      "Epoch 3/80, Loss: 115071.3828125\n",
      "Epoch 4/80, Loss: 1.7596517944307577e+21\n",
      "Epoch 5/80, Loss: 8.489572929835211e+19\n",
      "Epoch 6/80, Loss: 3.056244741812676e+19\n",
      "Epoch 7/80, Loss: 1.1002486304200983e+19\n",
      "Epoch 8/80, Loss: 3.960896630818865e+18\n",
      "Epoch 9/80, Loss: 1.4259232323970007e+18\n",
      "Epoch 10/80, Loss: 5.133322578349261e+17\n",
      "Epoch 11/80, Loss: 1.8479959220473037e+17\n",
      "Epoch 12/80, Loss: 6.652787518393549e+16\n",
      "Epoch 13/80, Loss: 2.395003472261939e+16\n",
      "Epoch 14/80, Loss: 8622015850217472.0\n",
      "Epoch 15/80, Loss: 3103925083308032.0\n",
      "Epoch 16/80, Loss: 1117412850139136.0\n",
      "Epoch 17/80, Loss: 402268717318144.0\n",
      "Epoch 18/80, Loss: 144816734208000.0\n",
      "Epoch 19/80, Loss: 52134011731968.0\n",
      "Epoch 20/80, Loss: 18768245817344.0\n",
      "Epoch 21/80, Loss: 6756568137728.0\n",
      "Epoch 22/80, Loss: 2432364969984.0\n",
      "Epoch 23/80, Loss: 875651268608.0\n",
      "Epoch 24/80, Loss: 315234418688.0\n",
      "Epoch 25/80, Loss: 113484406784.0\n",
      "Epoch 26/80, Loss: 40854384640.0\n",
      "Epoch 27/80, Loss: 14707581952.0\n",
      "Epoch 28/80, Loss: 5294729728.0\n",
      "Epoch 29/80, Loss: 1906102656.0\n",
      "Epoch 30/80, Loss: 686196928.0\n",
      "Epoch 31/80, Loss: 247030960.0\n",
      "Epoch 32/80, Loss: 88931224.0\n",
      "Epoch 33/80, Loss: 32015328.0\n",
      "Epoch 34/80, Loss: 11525604.0\n",
      "Epoch 35/80, Loss: 4149304.5\n",
      "Epoch 36/80, Loss: 1493837.125\n",
      "Epoch 37/80, Loss: 537868.6875\n",
      "Epoch 38/80, Loss: 193720.109375\n",
      "Epoch 39/80, Loss: 69826.6328125\n",
      "Epoch 40/80, Loss: 25224.97265625\n",
      "Epoch 41/80, Loss: 9168.373046875\n",
      "Epoch 42/80, Loss: 3387.998291015625\n",
      "Epoch 43/80, Loss: 1307.0634765625\n",
      "Epoch 44/80, Loss: 557.9267578125\n",
      "Epoch 45/80, Loss: 288.23773193359375\n",
      "Epoch 46/80, Loss: 191.149658203125\n",
      "Epoch 47/80, Loss: 156.19796752929688\n",
      "Epoch 48/80, Loss: 143.61534118652344\n",
      "Epoch 49/80, Loss: 139.08558654785156\n",
      "Epoch 50/80, Loss: 137.45489501953125\n",
      "Epoch 51/80, Loss: 136.86782836914062\n",
      "Epoch 52/80, Loss: 136.656494140625\n",
      "Epoch 53/80, Loss: 136.5803985595703\n",
      "Epoch 54/80, Loss: 136.5530242919922\n",
      "Epoch 55/80, Loss: 136.5431671142578\n",
      "Epoch 56/80, Loss: 136.5395965576172\n",
      "Epoch 57/80, Loss: 136.53834533691406\n",
      "Epoch 58/80, Loss: 136.53787231445312\n",
      "Epoch 59/80, Loss: 136.5377197265625\n",
      "Epoch 60/80, Loss: 136.53765869140625\n",
      "Epoch 61/80, Loss: 136.53762817382812\n",
      "Epoch 62/80, Loss: 136.53762817382812\n",
      "Epoch 63/80, Loss: 136.53761291503906\n",
      "Epoch 64/80, Loss: 136.53759765625\n",
      "Epoch 65/80, Loss: 136.53761291503906\n",
      "Epoch 66/80, Loss: 136.53761291503906\n",
      "Epoch 67/80, Loss: 136.53761291503906\n",
      "Epoch 68/80, Loss: 136.53762817382812\n",
      "Epoch 69/80, Loss: 136.53761291503906\n",
      "Epoch 70/80, Loss: 136.53761291503906\n",
      "Epoch 71/80, Loss: 136.53762817382812\n",
      "Epoch 72/80, Loss: 136.53761291503906\n",
      "Epoch 73/80, Loss: 136.53761291503906\n",
      "Epoch 74/80, Loss: 136.53761291503906\n",
      "Epoch 75/80, Loss: 136.53761291503906\n",
      "Epoch 76/80, Loss: 136.53761291503906\n",
      "Epoch 77/80, Loss: 136.53761291503906\n",
      "Epoch 78/80, Loss: 136.53761291503906\n",
      "Epoch 79/80, Loss: 136.53761291503906\n",
      "Epoch 80/80, Loss: 136.53761291503906\n"
     ]
    }
   ],
   "source": [
    "class FeedforwardNeuralNet(net.Module):\n",
    "    def __init__(self, input_size, hidden_size, output_size):\n",
    "        super(FeedforwardNeuralNet, self).__init__()\n",
    "        self.neuralnet = net.Sequential(\n",
    "            net.Linear(input_size, hidden_size),\n",
    "            net.ReLU(),\n",
    "            net.Linear(hidden_size,32),\n",
    "            net.ReLU(),\n",
    "            net.Linear(32,output_size)\n",
    "        ) \n",
    "    \n",
    "    def forward(self, x):\n",
    "        return self.neuralnet(x)\n",
    "    \n",
    "if len(X_train_new.shape) == 1:\n",
    "    X_train_new = X_train_new.unsqueeze(1)\n",
    "if len(X_test_new.shape) == 1:\n",
    "    X_test_new = X_test_new.unsqueeze(1)\n",
    "\n",
    "input_size = X_train_new.shape[1]\n",
    "hidden_size = 64\n",
    "output_size = 1\n",
    "alpha = 0.2\n",
    "epochs = 80\n",
    "\n",
    "model = FeedforwardNeuralNet(input_size, hidden_size, output_size)\n",
    "\n",
    "loss = net.MSELoss()\n",
    "optimizer = optim.SGD(model.parameters(), lr=alpha)\n",
    "\n",
    "for epoch in range(epochs):\n",
    "    optimizer.zero_grad()\n",
    "    y_pred = model(X_train_new)\n",
    "\n",
    "    train_loss = F.mse_loss(y_pred, y_train_new)\n",
    "    train_loss.backward()\n",
    "    optimizer.step()\n",
    "    print(f\"Epoch {epoch+1}/{epochs}, Loss: {train_loss.item()}\")\n",
    "\n"
   ]
  },
  {
   "cell_type": "markdown",
   "metadata": {},
   "source": [
    "# 3. Parameter eines Neuronalen Netzes"
   ]
  },
  {
   "cell_type": "markdown",
   "metadata": {},
   "source": [
    "## Aufgabe 3.1 [3 Punkte]\n",
    "Gegeben ist das in PyTorch definierte Neuronale Netze\n",
    "   \n",
    "![fc_nn](Bilder/fc_nn.png)\n",
    "\n",
    "Bestimmen Sie  die Anzahl zu optimierender Parameter."
   ]
  },
  {
   "cell_type": "markdown",
   "metadata": {},
   "source": [
    "### Antwort zu Aufgabe 3.1\n",
    "\n",
    "...\n"
   ]
  },
  {
   "cell_type": "markdown",
   "metadata": {},
   "source": [
    "# 4. Backpropagation"
   ]
  },
  {
   "cell_type": "markdown",
   "metadata": {},
   "source": [
    "## Aufgabe 4.1 [6 Punkte]\n",
    "Gegeben ist folgendes Neuronale Netze\n",
    "   \n",
    "![fc_nn](Bilder/NN_backpropagation.png)\n",
    "\n",
    "mit folgenden Gewichtsmatrizen \n",
    "\n",
    "$$W^{(1)}=\\left(\\begin{array}{cc} \n",
    "1 & 1\\\\ \n",
    "2 & -2\n",
    "\\end{array}\\right)\n",
    "\\quad\\text{und}\\quad\n",
    "W^{(2)}=\\left(\\begin{array}{c} \n",
    "1\\\\ \n",
    "-1\n",
    "\\end{array}\\right) $$\n",
    "\n",
    "und Biases\n",
    "\n",
    "$$b^{(1)}=\\left(\\begin{array}{c} \n",
    "-1\\\\ \n",
    "0\n",
    "\\end{array}\\right)\n",
    "\\quad\\text{und}\\quad\n",
    "b^{(2)}= -4$$\n",
    "\n",
    "Die Aktivierungsfunktionen sind folgende:\n",
    "* Hidden Layer: ReLU\n",
    "* Output Layer: Identität\n",
    "\n",
    "Als Verlustfunktion wird der L2-Loss genommen\n",
    "$$L(y,a)=\\frac12(y-a)^2$$\n",
    "\n",
    "__Aufgabe:__\n",
    "1. Führen Sie ein Update der Parameter mittels Backpropagation durch für den Datenpunkt\n",
    "$$x=\\left(\\begin{array}{c} \n",
    "1\\\\ \n",
    "1 \n",
    "\\end{array}\\right) $$\n",
    "mit wahrem Zielwert \n",
    "$$ y= -1$$\n",
    "und der Lernrate $\\alpha=0.1$ durch.\n",
    "1. Wie groß ist der neue Verlust nach dem Parameterupdate? Vergleichen Sie das mit dem Verlust vor durchführung des Updates der Parameter.\n"
   ]
  },
  {
   "cell_type": "markdown",
   "metadata": {},
   "source": [
    "### Lösung Aufgabe 4.1\n",
    "\n",
    "..."
   ]
  }
 ],
 "metadata": {
  "kernelspec": {
   "display_name": "Python 3",
   "language": "python",
   "name": "python3"
  },
  "language_info": {
   "codemirror_mode": {
    "name": "ipython",
    "version": 3
   },
   "file_extension": ".py",
   "mimetype": "text/x-python",
   "name": "python",
   "nbconvert_exporter": "python",
   "pygments_lexer": "ipython3",
   "version": "3.12.7"
  }
 },
 "nbformat": 4,
 "nbformat_minor": 4
}
