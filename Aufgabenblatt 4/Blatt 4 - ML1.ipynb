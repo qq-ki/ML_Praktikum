{
 "cells": [
  {
   "cell_type": "markdown",
   "metadata": {},
   "source": [
    "---"
   ]
  },
  {
   "cell_type": "markdown",
   "metadata": {},
   "source": [
    "[//]: # \"Header\"\n",
    "\n",
    "<p style=\"text-align: left;  font-size:18pt; LINE-HEIGHT:30px;\">\n",
    "    <span style=\"float: left\">\n",
    "     Technische Hochschule Ingolstadt<br>\n",
    "     Prof. Dr. Sören Gröttrup <br>\n",
    "     Laura Dietl\n",
    "    </span>\n",
    "    <span style=\"float: right;\">\n",
    "       Machine Learning 1<br>\n",
    "        <span style=\"float: right;\">WS 24/25</span>\n",
    "    </span>\n",
    "</p>"
   ]
  },
  {
   "cell_type": "markdown",
   "metadata": {},
   "source": [
    "[//]: # \"Header Aufgabenblatt\"\n",
    "<br>\n",
    "<p style=\"text-align: center;  font-size:18pt; LINE-HEIGHT:30px;\">\n",
    "     <span style=\"font-weight: bold;\">Aufgabenblatt 4</span><br>\n",
    "     Themen: Imputing, Neuronale Netze in PyTorch, Backpropagation<br>\n",
    "     Abgabetermin: 29.11.2024, 23:59 Uhr <br>\n",
    "     Punkte: 31\n",
    "</p>\n"
   ]
  },
  {
   "cell_type": "markdown",
   "metadata": {},
   "source": [
    "---"
   ]
  },
  {
   "cell_type": "markdown",
   "metadata": {},
   "source": [
    "**Namen:** _Bitte tragen Sie hier die Namen der Abgabegruppe ein._"
   ]
  },
  {
   "cell_type": "markdown",
   "metadata": {},
   "source": [
    "---"
   ]
  },
  {
   "cell_type": "markdown",
   "metadata": {
    "tags": []
   },
   "source": [
    "# 1. Imputing - Dealing with Missing Values - Ein Weg mit fehlenden Werten umzugehen\n",
    "\n",
    "Bei einer Variablen in einem Datensatz kann es durchaus vorkommen, dass für einige Beobachtungen die Werte nicht bekannt sind. Zum Beispiel kann es sein, dass ein Kunde in einem Online-Shop sein Profil nicht vollkommen ausfüllt, so dass die Handynummer, das Alter oder gewisse Interessen nicht bekannt sind. Die Variable Handynummer in diesem Datensatz wäre dann für den jeweiligen Kunden nicht befüllt.\n",
    "\n",
    "Einige Algorithmen des Maschinellen Lernens können mit diesen fehlenden Werten nicht umgehen. Damit man einen Algorithmus trotzdem auf einen Datensatz mit einer Variable mit fehlenden Werten anwenden kann, gibt es einige einfache Strategien.\n",
    "\n",
    "**Ignoriere die fehlenden Werte (Omission)**\n",
    "\n",
    "Die einfachste und radikalste Methode ist die fehlenden Werte für das Training zu entfernen. Dies kann man auf zwei Arten machen:\n",
    "1. Entfernen der Variable aus dem Trainingsdatensatz. Z.B. im obigen Beispiel die Variable Handynummer nicht als Input-Variable zu nehmen.\n",
    "1. Entfernen aller Zeilen im Datensatz, die einen fehlenden Wert in einer zu berücksichtigen Variable aufweisen. Z.B. im obigen Beispiel alle Kunden ohne Handynummer aus dem Tainingsdatensatz ausschließen.\n",
    "\n",
    "**Imputing**\n",
    "\n",
    "Anstatt die fehlenden Werte zu entfernen, kann man auch versuchen, diese mit \"geeigneten\" Werten aufzufüllen. Dafür gibt es mehrere einfache Methoden.\n",
    "1. _Constant Value Imputing_ Wenn der Kontext es hergibt, können alle fehlenden Werte einer Variablen mit einem Standardwert aufgefüllt werden. \n",
    "    1. Bei einer kategoriellen Variable können z.B. die fehlenden Werte mit 'unknown' oder 'other' ersetzt werden. Wenn z.B. bei einem Kunden der Wert der Variable \"Intresse an Sportartikeln\" fehlt, kann dieser die neue Ausprägung \"unknown\" erhalten.\n",
    "    1. Wenn bei einer numerischen Variablen nur positive Werte auftreten können, wie z.B. bei der Variable \"Anzahl an Käufe\", kann der fehlende Wert sinnvollerweise mit 0 ersetzt werden.\n",
    "1. _Mean/Median/Mode Imputing_ Die fehlenden Werte einer Variablen werden durch deren arithmetisches Mittel, den Median oder den Modus ersetzt. Diese repräsentiern \"typische\" Werte für die Variable.\n",
    "    1. Bei kategoriellen Variablen werden die fehlenden Werte durch die am häufigsten auftretende Ausprägung ersetzt (den Modus).\n",
    "    1. Bei numerischen Variablen werden die fehlenden Werte mit dem arithmetischen Mittel oder dem Median der anderen Ausprägungen der Variable ersetzt.\n",
    "\n",
    "Dies sind nur die einfachen und univariaten Methoden des Imputing. Weitere multivariate Imputing-Verfahren wie die Benutzung von Vorhersagemodellen werden in der Vorlesung besprochen."
   ]
  },
  {
   "cell_type": "markdown",
   "metadata": {},
   "source": [
    "## Aufgabe 1.1 (Vor- & Nachteile der Imputing-Verfahren) [6 Punkte]\n",
    "Betrachten Sie die oben genannten Omission und Imputing-Verfahren. Welche Vor- und Nachteile könnten diese Verfahren jeweils haben?"
   ]
  },
  {
   "cell_type": "markdown",
   "metadata": {
    "tags": []
   },
   "source": [
    "**Antwort zu Aufgabe 1.1**\n"
   ]
  },
  {
   "cell_type": "markdown",
   "metadata": {},
   "source": [
    "Omission:\n",
    "| Verfahren | Vorteile             | Nachteile                                                                                              |\n",
    "|-----------|----------------------|--------------------------------------------------------------------------------------------------------|\n",
    "| 1.        |- Alle Daten sind Uniform <br>- eingefügte Werte ändern die Ergebnisse nicht/keine nicht vorhandenen Daten müssen angenommen werden <br>- alle Datenpunkte bleiben erhalten <br > - unkompliziertes/schnelles Verfahren|Die entfernte Variable ist potentiell ausschlaggebend für das Ergebnis <br>                             |\n",
    "| 2.        |- Alle Daten sind Uniform <br>- eingefügte Werte ändern die Ergebnisse nicht/keine nicht vorhandenen Daten müssen angenommen werden <br>- potentiell ausschlaggebende Variablen bleiben erhalten                           | Sollten viele Datenpunkte unvolsständig sein, so führt das Verfahren zu großem Verlust knapper Daten   |\n",
    "\n",
    "Imputing:\n",
    "| Verfahren                      | Vorteile                                                                                                                                     | Nachteile |\n",
    "|--------------------------------|----------------------------------------------------------------------------------------------------------------------------------------------|-----------|\n",
    "| Constant Value Imputing        |- keine nicht vorhandenen Angaben werden angenommen<br>- Struktur der Daten bleibt erhalten <br>- Stichprobenumfang bleibt erhalten           |- Das Modell könnte Ergebnisse o. zu viel Information aus der Unknown Variable ziehen<br> - Es werden nicht korrekte Daten angenommen, die die Vorhersage verzerren könnten                                                |\n",
    "| Mean/Median/Mode Imputing      |- kann über verschiedene Annahmemethoden (Mean,Median,etc.) Strukturen im Datensatz berücksichtigen<br>- Stichprobenumfang bleibt erhalten    | - basiert auf Annahmen, die teilweise aufwändig errechnet werden müssen<br>- es könnten systematische Verzerrungen entstehen                                                                                            | \n",
    "\n"
   ]
  },
  {
   "cell_type": "markdown",
   "metadata": {},
   "source": [
    "# 2. Neuronale Netze mit PyTorch"
   ]
  },
  {
   "cell_type": "markdown",
   "metadata": {},
   "source": [
    "### Daten\n",
    "\n",
    "Der Datensatz `gt.csv` (zu finden auf der Moodle-Seite des Praktikums (https://moodle.thi.de/course/view.php?id=6824)) ist eine etwas abgewandelte und bearbeitete Version des Datensatzes aus dem UCI Machine Learning Repository (https://archive.ics.uci.edu/ml/datasets/Gas+Turbine+CO+and+NOx+Emission+Data+Set). \n",
    "\n",
    "Der Datensatz enthält 36733 Messpunkte von je 11 Sensoren einer Gasturbine im Nordwesten der Türkei. Die einzelnen Werte sind dabei jeweils Aggregate (Summe oder Mittelwert) über eine Stunde. Die Sensordaten diesen dazu die Gasemissionender Turbine, insb. CO und NOx (NO & NO2), zu messen."
   ]
  },
  {
   "cell_type": "markdown",
   "metadata": {},
   "source": [
    "#### Initialisierung der Daten\n",
    "Hier finden Sie bereits geschriebenen Code, der die Daten einliest und in Trainings- und Testdaten splittet. __Bitte verändern Sie diesen Code nicht__, sondern fügen Ihren Code unterhalb ein."
   ]
  },
  {
   "cell_type": "code",
   "execution_count": null,
   "metadata": {},
   "outputs": [],
   "source": [
    "# Packages\n",
    "import numpy as np\n",
    "import matplotlib.pyplot as plt\n",
    "import pandas as pd\n",
    "import seaborn as sns\n",
    "from sklearn.model_selection import train_test_split\n",
    "\n",
    "plt.style.use('ggplot')"
   ]
  },
  {
   "cell_type": "code",
   "execution_count": null,
   "metadata": {},
   "outputs": [],
   "source": [
    "# Load data\n",
    "file_path = \"Daten Blatt 4/gt.csv\"\n",
    "data = pd.read_csv(file_path)\n",
    "data"
   ]
  },
  {
   "cell_type": "code",
   "execution_count": null,
   "metadata": {},
   "outputs": [],
   "source": [
    "# Define target and feature\n",
    "y = data.NOX\n",
    "X = data.drop(columns=[\"CO\", \"NOX\"])"
   ]
  },
  {
   "cell_type": "code",
   "execution_count": null,
   "metadata": {},
   "outputs": [],
   "source": [
    "# Split data into training and test set\n",
    "X_train, X_test, y_train, y_test = train_test_split(X, y, test_size = 0.2, random_state=1)\n",
    "\n",
    "X_train = pd.DataFrame(X_train, columns=X.columns)\n",
    "X_test = pd.DataFrame(X_test, columns=X.columns)"
   ]
  },
  {
   "cell_type": "markdown",
   "metadata": {},
   "source": [
    "## Aufgabe 2.1 (Datenaufbereitung) [4 Punkte]\n",
    "\n",
    "Untersuchen Sie den Datensatz der Sensordaten einer Gasturbine `gt.csv`.\n",
    "\n",
    "1. Welche Variablen weisen fehlende Werte auf?\n",
    "1. Ersetzen Sie diese mittels eines sinnvollen oben genannten Imputing-Verfahrens. _Hinweis_: Sie können dafür die Funktion `SimpleImputer()` aus dem `sklearn` Paket verwenden. Informieren Sie sich vorher über deren Funktionsweise und Optionen.\n",
    "1. Was für ein Vorverarbeitungsschritt scheint noch sinnvoll zu sein? Führen Sie diesen ggf. auch durch.\n",
    "\n",
    "_Achtung_: Behalten Sie bei Ihren Datenoperationen die gegebene Aufteilung in Training- und Testdaten bei."
   ]
  },
  {
   "cell_type": "markdown",
   "metadata": {},
   "source": [
    "### Lösung Aufgabe 2.1"
   ]
  },
  {
   "cell_type": "code",
   "execution_count": null,
   "metadata": {},
   "outputs": [],
   "source": [
    "..."
   ]
  },
  {
   "cell_type": "markdown",
   "metadata": {},
   "source": [
    "## Aufgabe 2.2 (Training in PyTorch) [12 Punkte]\n",
    "Erstellen Sie ein Feedforward Neuronales Netz auf dem in der vorherigen Aufgabe 2.1 aufbereiteten Datensatz mittels PyTorch, welches basierend auf den anderen Sensordaten die NOx-Emission vorhersagen kann. Benutzen Sie dabei den L2-Loss als Kostenfunktion. Welchen RMSE erzielt Ihr trainiertes Neuronales Netz, wenn Sie dies auf die Testdaten (`X_test, y_test`) anwenden?\n",
    "\n",
    "In dieser Aufgabe gibt es keinerlei weitere Vorgabe an das zu implementierende Modell. Sie sind in der Struktur des Netzes und dem Vorgehen frei. Um aber die volle Punkzahl zu erhalten, müssen Sie ein sinnvolles Netz trainieren, d.h. die Optimierung mittels Gradient Descent konvergiert, kein Overfitting etc.. Versuchen Sie auch den RMSE so klein wie möglich zu bekommen.\n",
    "\n",
    "_Hinweis_: Anstatt Ihre aufbereiteten Daten zu nehmen, können Sie auch schon vorverarbeitete Daten einlesen durch den Befehl `data = torch.load(\"Daten Blatt 4/gt_prepared\")`\n",
    "Dieser liest ein Dictionary ein, in welchem Sie Tensoren der Trainings- und Testdaten finden. Der Befehl `data.keys()` zeigt Ihnen die Key-Namen. "
   ]
  },
  {
   "cell_type": "markdown",
   "metadata": {},
   "source": [
    "### Lösung der Aufgabe 2.2"
   ]
  },
  {
   "cell_type": "code",
   "execution_count": 1,
   "metadata": {},
   "outputs": [],
   "source": [
    "# Load packages\n",
    "import torch\n",
    "import torch.nn as net\n",
    "import torch.nn.functional as F\n",
    "import torch.optim as optim"
   ]
  },
  {
   "cell_type": "code",
   "execution_count": null,
   "metadata": {},
   "outputs": [],
   "source": [
    "..."
   ]
  },
  {
   "cell_type": "markdown",
   "metadata": {},
   "source": [
    "# 3. Parameter eines Neuronalen Netzes"
   ]
  },
  {
   "cell_type": "markdown",
   "metadata": {},
   "source": [
    "## Aufgabe 3.1 [3 Punkte]\n",
    "Gegeben ist das in PyTorch definierte Neuronale Netze\n",
    "   \n",
    "![fc_nn](Bilder/fc_nn.png)\n",
    "\n",
    "Bestimmen Sie  die Anzahl zu optimierender Parameter."
   ]
  },
  {
   "cell_type": "markdown",
   "metadata": {},
   "source": [
    "### Antwort zu Aufgabe 3.1\n",
    "\n",
    "...\n"
   ]
  },
  {
   "cell_type": "markdown",
   "metadata": {},
   "source": [
    "# 4. Backpropagation"
   ]
  },
  {
   "cell_type": "markdown",
   "metadata": {},
   "source": [
    "## Aufgabe 4.1 [6 Punkte]\n",
    "Gegeben ist folgendes Neuronale Netze\n",
    "   \n",
    "![fc_nn](Bilder/NN_backpropagation.png)\n",
    "\n",
    "mit folgenden Gewichtsmatrizen \n",
    "\n",
    "$$W^{(1)}=\\left(\\begin{array}{cc} \n",
    "1 & 1\\\\ \n",
    "2 & -2\n",
    "\\end{array}\\right)\n",
    "\\quad\\text{und}\\quad\n",
    "W^{(2)}=\\left(\\begin{array}{c} \n",
    "1\\\\ \n",
    "-1\n",
    "\\end{array}\\right) $$\n",
    "\n",
    "und Biases\n",
    "\n",
    "$$b^{(1)}=\\left(\\begin{array}{c} \n",
    "-1\\\\ \n",
    "0\n",
    "\\end{array}\\right)\n",
    "\\quad\\text{und}\\quad\n",
    "b^{(2)}= -4$$\n",
    "\n",
    "Die Aktivierungsfunktionen sind folgende:\n",
    "* Hidden Layer: ReLU\n",
    "* Output Layer: Identität\n",
    "\n",
    "Als Verlustfunktion wird der L2-Loss genommen\n",
    "$$L(y,a)=\\frac12(y-a)^2$$\n",
    "\n",
    "__Aufgabe:__\n",
    "1. Führen Sie ein Update der Parameter mittels Backpropagation durch für den Datenpunkt\n",
    "$$x=\\left(\\begin{array}{c} \n",
    "1\\\\ \n",
    "1 \n",
    "\\end{array}\\right) $$\n",
    "mit wahrem Zielwert \n",
    "$$ y= -1$$\n",
    "und der Lernrate $\\alpha=0.1$ durch.\n",
    "1. Wie groß ist der neue Verlust nach dem Parameterupdate? Vergleichen Sie das mit dem Verlust vor durchführung des Updates der Parameter.\n"
   ]
  },
  {
   "cell_type": "markdown",
   "metadata": {},
   "source": [
    "### Lösung Aufgabe 4.1\n",
    "\n",
    "..."
   ]
  }
 ],
 "metadata": {
  "kernelspec": {
   "display_name": "Python 3 (ipykernel)",
   "language": "python",
   "name": "python3"
  },
  "language_info": {
   "codemirror_mode": {
    "name": "ipython",
    "version": 3
   },
   "file_extension": ".py",
   "mimetype": "text/x-python",
   "name": "python",
   "nbconvert_exporter": "python",
   "pygments_lexer": "ipython3",
   "version": "3.9.7"
  }
 },
 "nbformat": 4,
 "nbformat_minor": 4
}
