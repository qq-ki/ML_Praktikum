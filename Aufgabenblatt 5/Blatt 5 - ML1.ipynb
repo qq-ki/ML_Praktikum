{
 "cells": [
  {
   "cell_type": "markdown",
   "metadata": {},
   "source": [
    "---"
   ]
  },
  {
   "cell_type": "markdown",
   "metadata": {},
   "source": [
    "[//]: # \"Header\"\n",
    "\n",
    "<p style=\"text-align: left;  font-size:18pt; LINE-HEIGHT:30px;\">\n",
    "    <span style=\"float: left\">\n",
    "     Technische Hochschule Ingolstadt<br>\n",
    "     Prof. Dr. Sören Gröttrup<br>\n",
    "     Laura Dietl\n",
    "    </span>\n",
    "    <span style=\"float: right;\">\n",
    "       Machine Learning 1<br>\n",
    "        <span style=\"float: right;\">WS 24/25</span>\n",
    "    </span>\n",
    "</p>"
   ]
  },
  {
   "cell_type": "markdown",
   "metadata": {},
   "source": [
    "[//]: # \"Header Aufgabenblatt\"\n",
    "<br>\n",
    "<p style=\"text-align: center;  font-size:18pt; LINE-HEIGHT:30px;\">\n",
    "     <span style=\"font-weight: bold;\">Aufgabenblatt 5</span><br>\n",
    "     Themen: ROC<br>\n",
    "     Abgabetermin: 13.12.2024, 23:59 Uhr <br>\n",
    "    Punkte: 20\n",
    "</p>\n"
   ]
  },
  {
   "cell_type": "markdown",
   "metadata": {},
   "source": [
    "---"
   ]
  },
  {
   "cell_type": "markdown",
   "metadata": {},
   "source": [
    "**Namen:** Emelie Hauck, Conrad Christoph"
   ]
  },
  {
   "cell_type": "markdown",
   "metadata": {},
   "source": [
    "---"
   ]
  },
  {
   "cell_type": "markdown",
   "metadata": {},
   "source": [
    "# 1. ROC"
   ]
  },
  {
   "cell_type": "code",
   "execution_count": 11,
   "metadata": {},
   "outputs": [],
   "source": [
    "# Packages\n",
    "import numpy as np\n",
    "import matplotlib.pyplot as plt\n",
    "import pandas as pd\n",
    "import seaborn as sns\n",
    "plt.style.use('ggplot')\n",
    "from sklearn.metrics import roc_curve"
   ]
  },
  {
   "cell_type": "markdown",
   "metadata": {},
   "source": [
    "## Aufgabe 1.1 [10 Punkte]\n",
    "1. Schreiben Sie eine Funktion `calc_roc(y_labels, pred_prob)`, welche die Werte der ROC-Kurve (FPR, TPR , threshold) für ein binäre Klassifikation berechnet und diese zurückgibt. Die Eingaben `y_labels` enthält dabei die wahren Werte eine Zielvariablen und `pred_pob` ist ein Verktor mit Wahrscheinlichkeiten für die Zugehörigkeit des jeweiligen Sample zur positiven Klassen. Beispiele sind unterhalb der Aufgabe angegeben.\n",
    "1. Erweitern Sie die Funktion so, dass sie zusätzlich den AUC berechnet und diesen ebenfalls zurückgibt, sprich `roc_values, auc = calc_roc(y_labels, pred_prob)`\n",
    "1. Plotten Sie die ROC-Kurve für die unten agegebenen Vektoren `y_labels` und `pred_prob` und berechnen Sie die AUC\n",
    "1. Bei welchen Schwellwert (Threshold) für die Entscheidung ob ein Sample zur Klasse 1 gehört ist die Accuracy am größten?\n",
    "\n",
    "_Hinweis:_ \n",
    "* Für die Aufgabe dürfen Sie nicht die von Python (sklearn) bereitgestellten Funktionen für die Berechnung des roc und auc verwenden, sondern sollen diese selbständig entwickeln.\n",
    "* Python stellt die Funktion `sklearn.metrics.roc_curve` zur Berechnung der TPR und FPR zur Verfügung. Sie können diese Funktion als Kontrolle nutzen, um die Richtigkeit Ihrer Berechnungen zu verifizieren."
   ]
  },
  {
   "cell_type": "code",
   "execution_count": 12,
   "metadata": {},
   "outputs": [],
   "source": [
    "y_labels = np.load(file=\"Daten Blatt 5/target.npy\")\n",
    "pred_prob = np.load(file=\"Daten Blatt 5/pred.npy\")"
   ]
  },
  {
   "cell_type": "code",
   "execution_count": 137,
   "metadata": {},
   "outputs": [
    {
     "name": "stdout",
     "output_type": "stream",
     "text": [
      "[0.         0.00806452 0.01209677 0.01612903 0.01612903 0.02016129\n",
      " 0.02822581 0.03225806 0.03629032 0.04435484 0.05241935 0.05645161\n",
      " 0.06048387 0.06451613 0.06854839 0.07258065 0.08467742 0.08870968\n",
      " 0.09274194 0.10080645 0.10483871 0.11693548 0.125      0.12903226\n",
      " 0.13306452 0.13709677 0.14516129 0.14919355 0.15725806 0.16129032\n",
      " 0.16129032 0.16532258 0.16935484 0.1733871  0.17741935 0.18548387\n",
      " 0.18951613 0.19354839 0.2016129  0.20564516 0.20967742 0.20967742\n",
      " 0.21370968 0.22177419 0.22983871 0.23387097 0.24193548 0.24596774\n",
      " 0.25       0.25403226 0.25806452 0.25806452 0.26209677 0.26612903\n",
      " 0.27419355 0.27822581 0.28225806 0.28629032 0.29032258 0.29032258\n",
      " 0.29435484 0.2983871  0.30241935 0.30645161 0.31451613 0.32258065\n",
      " 0.3266129  0.33064516 0.33467742 0.33870968 0.34274194 0.35080645\n",
      " 0.35887097 0.36290323 0.36693548 0.37096774 0.375      0.37903226\n",
      " 0.37903226 0.38709677 0.39112903 0.39919355 0.40322581 0.41935484\n",
      " 0.4233871  0.43145161 0.43951613 0.44354839 0.44758065 0.4516129\n",
      " 0.45967742 0.45967742 0.46774194 0.47580645 0.47983871 0.48790323\n",
      " 0.48790323 0.49596774 0.5        0.50403226 0.50806452 0.51209677\n",
      " 0.51612903 0.52016129 0.52419355 0.53225806 0.54032258 0.5483871\n",
      " 0.55241935 0.55645161 0.56451613 0.57258065 0.5766129  0.58467742\n",
      " 0.59274194 0.59677419 0.60080645 0.60887097 0.61290323 0.61693548\n",
      " 0.625      0.62903226 0.62903226 0.62903226 0.63709677 0.64112903\n",
      " 0.64919355 0.66129032 0.66532258 0.66935484 0.67741935 0.68548387\n",
      " 0.69354839 0.7016129  0.70564516 0.70967742 0.72177419 0.72580645\n",
      " 0.72983871 0.74193548 0.74596774 0.75       0.75403226 0.75806452\n",
      " 0.76612903 0.77016129 0.77419355 0.77822581 0.78225806 0.78629032\n",
      " 0.79032258 0.79032258 0.79435484 0.7983871  0.80241935 0.80645161\n",
      " 0.80645161 0.81854839 0.8266129  0.83064516 0.83467742 0.84274194\n",
      " 0.84274194 0.84677419 0.85483871 0.85483871 0.85483871 0.85483871\n",
      " 0.86693548 0.875      0.87903226 0.88709677 0.89112903 0.90322581\n",
      " 0.90725806 0.91532258 0.91935484 0.9233871  0.92741935 0.92741935\n",
      " 0.93145161 0.93951613 0.93951613 0.94354839 0.94354839 0.9516129\n",
      " 0.95564516 0.95564516 0.95564516 0.95564516 0.95564516 0.96370968\n",
      " 0.96774194 0.97177419 0.97177419 0.97177419 0.97580645 0.97983871\n",
      " 0.97983871 0.97983871 0.98790323 0.98790323 0.98790323 0.99596774\n",
      " 0.99596774 0.99596774 0.99596774 0.99596774 0.99596774 0.99596774\n",
      " 0.99596774 0.99596774 0.99596774 0.99596774 0.99596774 0.99596774\n",
      " 1.         1.         1.         1.         1.         1.\n",
      " 1.         1.         1.         1.         1.         1.\n",
      " 1.         1.         1.         1.         1.         1.\n",
      " 1.         1.         1.         1.         1.         1.\n",
      " 1.         1.         1.         1.         1.         1.\n",
      " 1.         1.         1.         1.         1.         1.\n",
      " 1.         1.         1.         1.         1.         1.\n",
      " 1.         1.         1.         1.         1.         1.\n",
      " 1.         1.         1.         1.         1.         1.\n",
      " 1.         1.         1.         1.         1.         1.\n",
      " 1.         1.         1.         1.         1.         1.\n",
      " 1.         1.         1.         1.         1.         1.\n",
      " 1.         1.         1.         1.        ]\n",
      "heyy\n",
      "[0.         0.         0.00806452 0.01612903 0.01612903 0.02016129\n",
      " 0.02822581 0.03629032 0.05241935 0.07258065 0.08467742 0.09274194\n",
      " 0.10080645 0.10483871 0.11693548 0.125      0.13709677 0.14516129\n",
      " 0.14919355 0.15725806 0.16129032 0.16129032 0.17741935 0.18548387\n",
      " 0.19354839 0.2016129  0.20967742 0.20967742 0.21370968 0.22983871\n",
      " 0.23387097 0.24193548 0.25806452 0.25806452 0.26612903 0.27419355\n",
      " 0.29032258 0.29032258 0.30645161 0.32258065 0.34274194 0.35887097\n",
      " 0.37903226 0.37903226 0.38709677 0.39112903 0.39919355 0.40322581\n",
      " 0.41935484 0.4233871  0.43951613 0.4516129  0.45967742 0.45967742\n",
      " 0.47580645 0.47983871 0.48790323 0.48790323 0.49596774 0.52419355\n",
      " 0.5483871  0.55645161 0.57258065 0.5766129  0.59274194 0.60080645\n",
      " 0.60887097 0.61693548 0.625      0.62903226 0.62903226 0.63709677\n",
      " 0.64112903 0.64919355 0.66129032 0.66935484 0.7016129  0.70967742\n",
      " 0.72177419 0.72983871 0.74193548 0.75806452 0.76612903 0.79032258\n",
      " 0.79032258 0.80645161 0.80645161 0.81854839 0.8266129  0.83467742\n",
      " 0.84274194 0.84274194 0.84677419 0.85483871 0.85483871 0.85483871\n",
      " 0.85483871 0.86693548 0.875      0.87903226 0.88709677 0.89112903\n",
      " 0.90322581 0.90725806 0.91532258 0.92741935 0.92741935 0.93145161\n",
      " 0.93951613 0.93951613 0.94354839 0.94354839 0.9516129  0.95564516\n",
      " 0.95564516 0.96370968 0.97177419 0.97177419 0.97177419 0.97983871\n",
      " 0.97983871 0.97983871 0.98790323 0.98790323 0.99596774 0.99596774\n",
      " 0.99596774 0.99596774 0.99596774 0.99596774 0.99596774 0.99596774\n",
      " 1.         1.         1.         1.         1.         1.\n",
      " 1.         1.         1.         1.         1.         1.\n",
      " 1.         1.         1.         1.         1.         1.\n",
      " 1.         1.         1.         1.         1.         1.\n",
      " 1.         1.         1.         1.         1.         1.\n",
      " 1.         1.         1.         1.         1.         1.        ]\n"
     ]
    }
   ],
   "source": [
    "#### Code HERE ####\n",
    "\n",
    "def cal_roc(y_labels, pred_prob):\n",
    "    \n",
    "    thresholds = np.unique(pred_prob)\n",
    "    tprs = []\n",
    "    fprs = []\n",
    "    x = 2\n",
    "    for theta in thresholds:\n",
    "        pred = (pred_prob >= theta).astype(int)\n",
    "\n",
    "        TP = np.sum((pred == 1) & (y_labels == 1))\n",
    "        FP = np.sum((pred == 1) & (y_labels == 0))\n",
    "        TN = np.sum((pred == 0) & (y_labels == 0))\n",
    "        FN = np.sum((pred == 0) & (y_labels == 1))\n",
    "    \n",
    "        TPR = TP / (TP + FN) if (TP + FN) > 0 else 0\n",
    "        FPR = FP / (FP + TN) if (FP + TN) > 0 else 0\n",
    "\n",
    "        tprs.append(TPR)\n",
    "        fprs.append(FPR)\n",
    "    \n",
    "    control_fprs, control_tprs, control_thresholds = roc_curve(y_labels, pred_prob)\n",
    "\n",
    "    tprs = np.array(tprs)\n",
    "    tprs = tprs[::-1]\n",
    "    fprs = np.array(fprs)\n",
    "    thresholds = np.array(thresholds)\n",
    "\n",
    "    print(tprs)\n",
    "    print(\"heyy\")\n",
    "    print(control_tprs)\n",
    "\n",
    "\n",
    "cal_roc(y_labels, pred_prob)"
   ]
  },
  {
   "cell_type": "markdown",
   "metadata": {},
   "source": [
    "## Aufgabe 1.2 [10 Punkte]\n",
    "\n",
    "**Daten:** Der Datensatz `creditcard_small.csv` ist ein gekürzter Datensatz mit weniger Variablen von dem Original-Datensatz https://www.kaggle.com/mlg-ulb/creditcardfraud. Er enthält anonymisierte Informationen von Kreditkartentransaktionen und ein Label `Class`, ob diese Transaktion betrügerisch war (`Class=1`), oder nicht (`Class=2`).\n",
    "\n",
    "1. Trainieren Sie das Logistisches-Regrassionsmodell `log_reg = LogisticRegression()` (siehe Code unten) auf den Trainingsdaten `x_train, y_train` und machen Sie damit eine Vorhersage für die Testdaten `x_test`.\n",
    "1. Berechnen Sie diverse Evaluationsmetriken für de Performance des Modells auf den Testdaten mittels einen Klassifikations-Report durch die Funktion `classification_report` aus dem Modul `sklearn.metrics`. Was ist die Accuracy, Precision, Sensitivity, Specificity und F1-Score für das Modell?\n",
    "1. Berechnen Sie die AUC und plotten Sie die ROC-Kurve für die Testdaten. Interpretieren Sie dessen Verlauf. Sie können hier die Funktionen `sklearn.metrics.roc_curve` und `sklearn.metrics.roc_auc_score` benutzen.\n",
    "1. Trainieren Sie das Neuronale Netz `nn = MLPClassifier(activation=\"relu\")` auf den Trainigsdaten `x_train, y_train`. Wie ist die AUC bei diesem Modell auf den Testdaten? Plotten Sie auch hier die ROC-Kurve und vergleichen Sie diese mit der der Logistischen Regression."
   ]
  },
  {
   "cell_type": "markdown",
   "metadata": {},
   "source": [
    "**Vorgeschriebener Code. Bitte nicht verändern**"
   ]
  },
  {
   "cell_type": "code",
   "execution_count": 138,
   "metadata": {},
   "outputs": [],
   "source": [
    "# Packages\n",
    "import numpy as np\n",
    "import matplotlib.pyplot as plt\n",
    "import pandas as pd\n",
    "import seaborn as sns\n",
    "plt.style.use('ggplot')"
   ]
  },
  {
   "cell_type": "code",
   "execution_count": 139,
   "metadata": {},
   "outputs": [
    {
     "data": {
      "text/html": [
       "<div>\n",
       "<style scoped>\n",
       "    .dataframe tbody tr th:only-of-type {\n",
       "        vertical-align: middle;\n",
       "    }\n",
       "\n",
       "    .dataframe tbody tr th {\n",
       "        vertical-align: top;\n",
       "    }\n",
       "\n",
       "    .dataframe thead th {\n",
       "        text-align: right;\n",
       "    }\n",
       "</style>\n",
       "<table border=\"1\" class=\"dataframe\">\n",
       "  <thead>\n",
       "    <tr style=\"text-align: right;\">\n",
       "      <th></th>\n",
       "      <th>V5</th>\n",
       "      <th>V6</th>\n",
       "      <th>V7</th>\n",
       "      <th>V8</th>\n",
       "      <th>V27</th>\n",
       "      <th>V28</th>\n",
       "      <th>Class</th>\n",
       "    </tr>\n",
       "  </thead>\n",
       "  <tbody>\n",
       "    <tr>\n",
       "      <th>0</th>\n",
       "      <td>-0.338321</td>\n",
       "      <td>0.462388</td>\n",
       "      <td>0.239599</td>\n",
       "      <td>0.098698</td>\n",
       "      <td>0.133558</td>\n",
       "      <td>-0.021053</td>\n",
       "      <td>0</td>\n",
       "    </tr>\n",
       "    <tr>\n",
       "      <th>1</th>\n",
       "      <td>0.060018</td>\n",
       "      <td>-0.082361</td>\n",
       "      <td>-0.078803</td>\n",
       "      <td>0.085102</td>\n",
       "      <td>-0.008983</td>\n",
       "      <td>0.014724</td>\n",
       "      <td>0</td>\n",
       "    </tr>\n",
       "    <tr>\n",
       "      <th>2</th>\n",
       "      <td>-0.503198</td>\n",
       "      <td>1.800499</td>\n",
       "      <td>0.791461</td>\n",
       "      <td>0.247676</td>\n",
       "      <td>-0.055353</td>\n",
       "      <td>-0.059752</td>\n",
       "      <td>0</td>\n",
       "    </tr>\n",
       "    <tr>\n",
       "      <th>3</th>\n",
       "      <td>-0.010309</td>\n",
       "      <td>1.247203</td>\n",
       "      <td>0.237609</td>\n",
       "      <td>0.377436</td>\n",
       "      <td>0.062723</td>\n",
       "      <td>0.061458</td>\n",
       "      <td>0</td>\n",
       "    </tr>\n",
       "    <tr>\n",
       "      <th>4</th>\n",
       "      <td>-0.407193</td>\n",
       "      <td>0.095921</td>\n",
       "      <td>0.592941</td>\n",
       "      <td>-0.270533</td>\n",
       "      <td>0.219422</td>\n",
       "      <td>0.215153</td>\n",
       "      <td>0</td>\n",
       "    </tr>\n",
       "    <tr>\n",
       "      <th>...</th>\n",
       "      <td>...</td>\n",
       "      <td>...</td>\n",
       "      <td>...</td>\n",
       "      <td>...</td>\n",
       "      <td>...</td>\n",
       "      <td>...</td>\n",
       "      <td>...</td>\n",
       "    </tr>\n",
       "    <tr>\n",
       "      <th>284802</th>\n",
       "      <td>-5.364473</td>\n",
       "      <td>-2.606837</td>\n",
       "      <td>-4.918215</td>\n",
       "      <td>7.305334</td>\n",
       "      <td>0.943651</td>\n",
       "      <td>0.823731</td>\n",
       "      <td>0</td>\n",
       "    </tr>\n",
       "    <tr>\n",
       "      <th>284803</th>\n",
       "      <td>0.868229</td>\n",
       "      <td>1.058415</td>\n",
       "      <td>0.024330</td>\n",
       "      <td>0.294869</td>\n",
       "      <td>0.068472</td>\n",
       "      <td>-0.053527</td>\n",
       "      <td>0</td>\n",
       "    </tr>\n",
       "    <tr>\n",
       "      <th>284804</th>\n",
       "      <td>2.630515</td>\n",
       "      <td>3.031260</td>\n",
       "      <td>-0.296827</td>\n",
       "      <td>0.708417</td>\n",
       "      <td>0.004455</td>\n",
       "      <td>-0.026561</td>\n",
       "      <td>0</td>\n",
       "    </tr>\n",
       "    <tr>\n",
       "      <th>284805</th>\n",
       "      <td>-0.377961</td>\n",
       "      <td>0.623708</td>\n",
       "      <td>-0.686180</td>\n",
       "      <td>0.679145</td>\n",
       "      <td>0.108821</td>\n",
       "      <td>0.104533</td>\n",
       "      <td>0</td>\n",
       "    </tr>\n",
       "    <tr>\n",
       "      <th>284806</th>\n",
       "      <td>-0.012546</td>\n",
       "      <td>-0.649617</td>\n",
       "      <td>1.577006</td>\n",
       "      <td>-0.414650</td>\n",
       "      <td>-0.002415</td>\n",
       "      <td>0.013649</td>\n",
       "      <td>0</td>\n",
       "    </tr>\n",
       "  </tbody>\n",
       "</table>\n",
       "<p>284807 rows × 7 columns</p>\n",
       "</div>"
      ],
      "text/plain": [
       "              V5        V6        V7        V8       V27       V28  Class\n",
       "0      -0.338321  0.462388  0.239599  0.098698  0.133558 -0.021053      0\n",
       "1       0.060018 -0.082361 -0.078803  0.085102 -0.008983  0.014724      0\n",
       "2      -0.503198  1.800499  0.791461  0.247676 -0.055353 -0.059752      0\n",
       "3      -0.010309  1.247203  0.237609  0.377436  0.062723  0.061458      0\n",
       "4      -0.407193  0.095921  0.592941 -0.270533  0.219422  0.215153      0\n",
       "...          ...       ...       ...       ...       ...       ...    ...\n",
       "284802 -5.364473 -2.606837 -4.918215  7.305334  0.943651  0.823731      0\n",
       "284803  0.868229  1.058415  0.024330  0.294869  0.068472 -0.053527      0\n",
       "284804  2.630515  3.031260 -0.296827  0.708417  0.004455 -0.026561      0\n",
       "284805 -0.377961  0.623708 -0.686180  0.679145  0.108821  0.104533      0\n",
       "284806 -0.012546 -0.649617  1.577006 -0.414650 -0.002415  0.013649      0\n",
       "\n",
       "[284807 rows x 7 columns]"
      ]
     },
     "execution_count": 139,
     "metadata": {},
     "output_type": "execute_result"
    }
   ],
   "source": [
    "#load data\n",
    "data = pd.read_csv(\"Daten Blatt 5/creditcard_small.csv\")\n",
    "data"
   ]
  },
  {
   "cell_type": "code",
   "execution_count": 140,
   "metadata": {},
   "outputs": [],
   "source": [
    "#Split into train and test\n",
    "from sklearn.model_selection import train_test_split\n",
    "data_train, data_test = train_test_split(data, test_size=0.3, random_state=1)"
   ]
  },
  {
   "cell_type": "code",
   "execution_count": 141,
   "metadata": {},
   "outputs": [],
   "source": [
    "y_train = data_train.Class\n",
    "x_train = data_train.drop(columns=[\"Class\"])\n",
    "\n",
    "y_test = data_test.Class\n",
    "x_test = data_test.drop(columns=[\"Class\"])"
   ]
  },
  {
   "cell_type": "code",
   "execution_count": 142,
   "metadata": {},
   "outputs": [],
   "source": [
    "from sklearn.linear_model import LogisticRegression\n",
    "from sklearn.neural_network import MLPClassifier\n",
    "log_reg = LogisticRegression()\n",
    "nn = MLPClassifier(activation=\"relu\")"
   ]
  },
  {
   "cell_type": "markdown",
   "metadata": {},
   "source": [
    "**Ihren Code ab hier einfügen**"
   ]
  },
  {
   "cell_type": "code",
   "execution_count": 143,
   "metadata": {},
   "outputs": [],
   "source": [
    "#### CODE HERE ####\n",
    "..."
   ]
  }
 ],
 "metadata": {
  "kernelspec": {
   "display_name": "base",
   "language": "python",
   "name": "python3"
  },
  "language_info": {
   "codemirror_mode": {
    "name": "ipython",
    "version": 3
   },
   "file_extension": ".py",
   "mimetype": "text/x-python",
   "name": "python",
   "nbconvert_exporter": "python",
   "pygments_lexer": "ipython3",
   "version": "3.12.4"
  }
 },
 "nbformat": 4,
 "nbformat_minor": 4
}
